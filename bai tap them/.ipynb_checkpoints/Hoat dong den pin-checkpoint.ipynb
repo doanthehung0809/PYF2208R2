{
 "cells": [
  {
   "cell_type": "code",
   "execution_count": 15,
   "id": "a71b2071",
   "metadata": {},
   "outputs": [
    {
     "name": "stdout",
     "output_type": "stream",
     "text": [
      "i = 0\n",
      "Turn on\n"
     ]
    },
    {
     "ename": "NameError",
     "evalue": "name 'self_energy' is not defined",
     "output_type": "error",
     "traceback": [
      "\u001b[1;31m---------------------------------------------------------------------------\u001b[0m",
      "\u001b[1;31mNameError\u001b[0m                                 Traceback (most recent call last)",
      "Cell \u001b[1;32mIn [15], line 47\u001b[0m\n\u001b[0;32m     44\u001b[0m             flash_lamp\u001b[38;5;241m.\u001b[39mturn_off()\n\u001b[0;32m     45\u001b[0m         \u001b[38;5;28mprint\u001b[39m(\u001b[38;5;124mf\u001b[39m\u001b[38;5;124m\"\u001b[39m\u001b[38;5;124mRemaining energy in flashlamp:\u001b[39m\u001b[38;5;132;01m{\u001b[39;00mflash_lamp\u001b[38;5;241m.\u001b[39mget_battery_info()\u001b[38;5;132;01m}\u001b[39;00m\u001b[38;5;124m\"\u001b[39m)\n\u001b[1;32m---> 47\u001b[0m \u001b[43mTestFlashLamp\u001b[49m\u001b[43m(\u001b[49m\u001b[43m)\u001b[49m\u001b[38;5;241;43m.\u001b[39;49m\u001b[43mmain\u001b[49m\u001b[43m(\u001b[49m\u001b[43m)\u001b[49m\n",
      "Cell \u001b[1;32mIn [15], line 43\u001b[0m, in \u001b[0;36mTestFlashLamp.main\u001b[1;34m(self)\u001b[0m\n\u001b[0;32m     41\u001b[0m \u001b[38;5;28;01mfor\u001b[39;00m i \u001b[38;5;129;01min\u001b[39;00m \u001b[38;5;28mrange\u001b[39m(\u001b[38;5;241m10\u001b[39m):\n\u001b[0;32m     42\u001b[0m     \u001b[38;5;28mprint\u001b[39m(\u001b[38;5;124mf\u001b[39m\u001b[38;5;124m'\u001b[39m\u001b[38;5;124mi = \u001b[39m\u001b[38;5;132;01m{\u001b[39;00mi\u001b[38;5;132;01m}\u001b[39;00m\u001b[38;5;124m'\u001b[39m)\n\u001b[1;32m---> 43\u001b[0m     \u001b[43mflash_lamp\u001b[49m\u001b[38;5;241;43m.\u001b[39;49m\u001b[43mturn_on\u001b[49m\u001b[43m(\u001b[49m\u001b[43m)\u001b[49m\n\u001b[0;32m     44\u001b[0m     flash_lamp\u001b[38;5;241m.\u001b[39mturn_off()\n\u001b[0;32m     45\u001b[0m \u001b[38;5;28mprint\u001b[39m(\u001b[38;5;124mf\u001b[39m\u001b[38;5;124m\"\u001b[39m\u001b[38;5;124mRemaining energy in flashlamp:\u001b[39m\u001b[38;5;132;01m{\u001b[39;00mflash_lamp\u001b[38;5;241m.\u001b[39mget_battery_info()\u001b[38;5;132;01m}\u001b[39;00m\u001b[38;5;124m\"\u001b[39m)\n",
      "Cell \u001b[1;32mIn [15], line 29\u001b[0m, in \u001b[0;36mFlashlamp.turn_on\u001b[1;34m(self)\u001b[0m\n\u001b[0;32m     27\u001b[0m \u001b[38;5;28mprint\u001b[39m(\u001b[38;5;124m\"\u001b[39m\u001b[38;5;124mTurn on\u001b[39m\u001b[38;5;124m\"\u001b[39m)\n\u001b[0;32m     28\u001b[0m \u001b[38;5;66;03m#self.set_battery.decrease_enery()\u001b[39;00m\n\u001b[1;32m---> 29\u001b[0m \u001b[38;5;28;01mif\u001b[39;00m \u001b[38;5;28;43mself\u001b[39;49m\u001b[38;5;241;43m.\u001b[39;49m\u001b[43mget_battery_info\u001b[49m\u001b[43m(\u001b[49m\u001b[43m)\u001b[49m \u001b[38;5;241m<\u001b[39m \u001b[38;5;241m0\u001b[39m: \u001b[38;5;28mprint\u001b[39m(\u001b[38;5;124m\"\u001b[39m\u001b[38;5;124mLight off\u001b[39m\u001b[38;5;124m\"\u001b[39m)\n\u001b[0;32m     30\u001b[0m \u001b[38;5;28;01melse\u001b[39;00m: \u001b[38;5;28mprint\u001b[39m(\u001b[38;5;124m\"\u001b[39m\u001b[38;5;124mLight on\u001b[39m\u001b[38;5;124m\"\u001b[39m)\n",
      "Cell \u001b[1;32mIn [15], line 23\u001b[0m, in \u001b[0;36mFlashlamp.get_battery_info\u001b[1;34m(self)\u001b[0m\n\u001b[0;32m     22\u001b[0m \u001b[38;5;28;01mdef\u001b[39;00m \u001b[38;5;21mget_battery_info\u001b[39m(\u001b[38;5;28mself\u001b[39m):\n\u001b[1;32m---> 23\u001b[0m     \u001b[38;5;28;01mreturn\u001b[39;00m \u001b[38;5;28;43mself\u001b[39;49m\u001b[38;5;241;43m.\u001b[39;49m\u001b[43mbattery\u001b[49m\u001b[38;5;241;43m.\u001b[39;49m\u001b[43mget_energy\u001b[49m\u001b[43m(\u001b[49m\u001b[43m)\u001b[49m\n",
      "Cell \u001b[1;32mIn [15], line 9\u001b[0m, in \u001b[0;36mBattery.get_energy\u001b[1;34m(self)\u001b[0m\n\u001b[0;32m      8\u001b[0m \u001b[38;5;28;01mdef\u001b[39;00m \u001b[38;5;21mget_energy\u001b[39m(\u001b[38;5;28mself\u001b[39m):\n\u001b[1;32m----> 9\u001b[0m     \u001b[38;5;28;01mreturn\u001b[39;00m \u001b[43mself_energy\u001b[49m\n",
      "\u001b[1;31mNameError\u001b[0m: name 'self_energy' is not defined"
     ]
    }
   ],
   "source": [
    "class Battery():\n",
    "    def __init__(self):\n",
    "        self.energy = 10\n",
    "        \n",
    "    def set_energy(self, energy):\n",
    "        self.energy = energy\n",
    "        \n",
    "    def get_energy(self):\n",
    "        return self_energy\n",
    "    \n",
    "    def decrease_energy(self):\n",
    "        self.energy -= 2\n",
    "        \n",
    "class Flashlamp():\n",
    "    def __init__(self):\n",
    "        self.status = False\n",
    "        self.battery = None\n",
    "        \n",
    "    def set_battery(self, b):\n",
    "        self.battery = b\n",
    "    \n",
    "    def get_battery_info(self):\n",
    "        return self.battery.get_energy()\n",
    "    \n",
    "    def turn_on(self):\n",
    "        self.status = True\n",
    "        print(\"Turn on\")\n",
    "        #self.set_battery.decrease_enery()\n",
    "        if self.get_battery_info() < 0: print(\"Light off\")\n",
    "        else: print(\"Light on\")\n",
    "         \n",
    "    def turn_off(self):\n",
    "        self.status = False\n",
    "        print(\"Turn off\")\n",
    "class TestFlashLamp():\n",
    "    def main(self):\n",
    "        battery = Battery()\n",
    "        flash_lamp = Flashlamp()\n",
    "        flash_lamp.set_battery(battery)\n",
    "        \n",
    "        for i in range(10):\n",
    "            print(f'i = {i}')\n",
    "            flash_lamp.turn_on()\n",
    "            flash_lamp.turn_off()\n",
    "        print(f\"Remaining energy in flashlamp:{flash_lamp.get_battery_info()}\")\n",
    "        \n",
    "TestFlashLamp().main()      "
   ]
  },
  {
   "cell_type": "markdown",
   "id": "7388b804",
   "metadata": {},
   "source": [
    "Viết chương trình quản lý học sinh với những yêu cầu sau:\n",
    "1. Nhập danh sách học sinh\n",
    "2. In danh sách học sinh\n",
    "3. Tìm học sinh có điểm cao nhất\n",
    "4. Sắp xếp học sinh tăng dần theo điểm\n",
    "5. Sắp xếp học sinh giảm dần theo điểm\n",
    "6. Liệt kê những học sinh có điểm từ 9\n",
    "7. Thoát"
   ]
  },
  {
   "cell_type": "code",
   "execution_count": 1,
   "id": "69221423",
   "metadata": {},
   "outputs": [
    {
     "name": "stdout",
     "output_type": "stream",
     "text": [
      "******************\n",
      "    Chọn yêu cầu:\n",
      "    1. Nhập danh sách học sinh\n",
      "    2. In danh sách học sinh\n",
      "    3. Tìm học sinh có điểm cao nhất\n",
      "    4. Sắp xếp học sinh tăng dần theo điểm\n",
      "    5. Sắp xếp học sinh giảm dần theo điểm\n",
      "    6. Liệt kê những học sinh có điểm từ 9\n",
      "    7. Thoát\n",
      "    ******************\n",
      "Mời bạn chọn yêu cầu: 1\n",
      "Nhập số học sinh của lớp: 2\n",
      "input student order 1\n",
      "input student name: hung\n",
      "input student mark: 10\n",
      "input student order 2\n",
      "input student name: huy\n",
      "input student mark: 8\n",
      "******************\n",
      "    Chọn yêu cầu:\n",
      "    1. Nhập danh sách học sinh\n",
      "    2. In danh sách học sinh\n",
      "    3. Tìm học sinh có điểm cao nhất\n",
      "    4. Sắp xếp học sinh tăng dần theo điểm\n",
      "    5. Sắp xếp học sinh giảm dần theo điểm\n",
      "    6. Liệt kê những học sinh có điểm từ 9\n",
      "    7. Thoát\n",
      "    ******************\n",
      "Mời bạn chọn yêu cầu: 2\n"
     ]
    },
    {
     "ename": "TypeError",
     "evalue": "'str' object is not callable",
     "output_type": "error",
     "traceback": [
      "\u001b[1;31m---------------------------------------------------------------------------\u001b[0m",
      "\u001b[1;31mTypeError\u001b[0m                                 Traceback (most recent call last)",
      "Cell \u001b[1;32mIn [1], line 70\u001b[0m\n\u001b[0;32m     68\u001b[0m     input_hs()\n\u001b[0;32m     69\u001b[0m \u001b[38;5;28;01melif\u001b[39;00m choice \u001b[38;5;241m==\u001b[39m \u001b[38;5;241m2\u001b[39m:\n\u001b[1;32m---> 70\u001b[0m     \u001b[43moutput_hs\u001b[49m\u001b[43m(\u001b[49m\u001b[43m)\u001b[49m\n\u001b[0;32m     71\u001b[0m \u001b[38;5;28;01melif\u001b[39;00m choice \u001b[38;5;241m==\u001b[39m \u001b[38;5;241m3\u001b[39m:\n\u001b[0;32m     72\u001b[0m     max_hs()\n",
      "Cell \u001b[1;32mIn [1], line 10\u001b[0m, in \u001b[0;36moutput_hs\u001b[1;34m()\u001b[0m\n\u001b[0;32m      8\u001b[0m \u001b[38;5;28;01mdef\u001b[39;00m \u001b[38;5;21moutput_hs\u001b[39m():\n\u001b[0;32m      9\u001b[0m     \u001b[38;5;28;01mfor\u001b[39;00m i \u001b[38;5;129;01min\u001b[39;00m \u001b[38;5;28mrange\u001b[39m(n):\n\u001b[1;32m---> 10\u001b[0m         \u001b[43ma\u001b[49m\u001b[43m[\u001b[49m\u001b[43mi\u001b[49m\u001b[43m]\u001b[49m\u001b[38;5;241;43m.\u001b[39;49m\u001b[43mshow\u001b[49m\u001b[43m(\u001b[49m\u001b[43m)\u001b[49m\n",
      "Cell \u001b[1;32mIn [1], line 49\u001b[0m, in \u001b[0;36mHocSinh.show\u001b[1;34m(self)\u001b[0m\n\u001b[0;32m     48\u001b[0m \u001b[38;5;28;01mdef\u001b[39;00m \u001b[38;5;21mshow\u001b[39m(\u001b[38;5;28mself\u001b[39m):\n\u001b[1;32m---> 49\u001b[0m     \u001b[38;5;28mprint\u001b[39m(\u001b[38;5;124mf\u001b[39m\u001b[38;5;124m\"\u001b[39m\u001b[38;5;124mHoc sinh ten la: \u001b[39m\u001b[38;5;132;01m{\u001b[39;00m\u001b[38;5;28mself\u001b[39m\u001b[38;5;241m.\u001b[39mten()\u001b[38;5;132;01m}\u001b[39;00m\u001b[38;5;124m\"\u001b[39m)\n\u001b[0;32m     50\u001b[0m     \u001b[38;5;28mprint\u001b[39m(\u001b[38;5;124mf\u001b[39m\u001b[38;5;124m\"\u001b[39m\u001b[38;5;124mSo diem hoc sinh la: \u001b[39m\u001b[38;5;132;01m{\u001b[39;00m\u001b[38;5;28mself\u001b[39m\u001b[38;5;241m.\u001b[39mdiem()\u001b[38;5;132;01m}\u001b[39;00m\u001b[38;5;124m\"\u001b[39m)\n\u001b[0;32m     51\u001b[0m     \u001b[38;5;28mprint\u001b[39m(\u001b[38;5;124m\"\u001b[39m\u001b[38;5;124m- - - - - \u001b[39m\u001b[38;5;124m\"\u001b[39m)\n",
      "\u001b[1;31mTypeError\u001b[0m: 'str' object is not callable"
     ]
    }
   ],
   "source": [
    "def input_hs():\n",
    "    for i in range(n):\n",
    "        a[i] = HocSinh(0, 0)\n",
    "        print(f\"input student order {i+1}\")\n",
    "        a[i].ten = input(\"input student name: \")\n",
    "        a[i].diem = float(input(\"input student mark: \"))\n",
    "\n",
    "def output_hs():\n",
    "    for i in range(n):\n",
    "        a[i].show()\n",
    "\n",
    "def max_hs():\n",
    "    max = a[0].diem\n",
    "    imax = 0\n",
    "    for i in range(n):\n",
    "        if a[i].diem > max:\n",
    "            max = a[i].diem\n",
    "            imax = i\n",
    "    print(\"Hoc sinh co diem cao nhat la:\")\n",
    "    a[imax].show()\n",
    "\n",
    "def decrease_hs():\n",
    "    for i in range(n-1):\n",
    "        for j in range(i+1):\n",
    "            if a[i].diem < a[j].diem:\n",
    "                a[i].diem,a[j].diem = a[j].diem,a[j].diem\n",
    "                a[i].ten,a[j].ten = a[j].ten,a[j].ten\n",
    "    output_hs()\n",
    "    \n",
    "def increase_hs():\n",
    "    for i in range(n-1):\n",
    "        for j in range(i+1):\n",
    "            if a[i].diem > a[j].diem:\n",
    "                a[i].diem,a[j].diem = a[j].diem,a[j].diem\n",
    "                a[i].ten,a[j].ten = a[j].ten,a[j].ten\n",
    "    output_hs()\n",
    "\n",
    "def hs_9():\n",
    "    for i in range(n):\n",
    "        if a[i].diem >= 9:\n",
    "            print(\"Hoc sinh co so diem lon hon 9 la: \")\n",
    "            a[i].show()\n",
    "\n",
    "class HocSinh:\n",
    "    def __init__(self, ten, diem):\n",
    "        self.ten = ten\n",
    "        self.diem = diem\n",
    "    def show(self):\n",
    "        print(f\"Hoc sinh ten la: {self.ten()}\")\n",
    "        print(f\"So diem hoc sinh la: {self.diem()}\")\n",
    "        print(\"- - - - - \")\n",
    "    \n",
    "while True:\n",
    "    print('''******************\n",
    "    Chọn yêu cầu:\n",
    "    1. Nhập danh sách học sinh\n",
    "    2. In danh sách học sinh\n",
    "    3. Tìm học sinh có điểm cao nhất\n",
    "    4. Sắp xếp học sinh tăng dần theo điểm\n",
    "    5. Sắp xếp học sinh giảm dần theo điểm\n",
    "    6. Liệt kê những học sinh có điểm từ 9\n",
    "    7. Thoát\n",
    "    ******************''')\n",
    "    choice = int(input(\"Mời bạn chọn yêu cầu: \"))\n",
    "    if choice == 1:\n",
    "        n = int(input(\"Nhập số học sinh của lớp: \"))\n",
    "        a = [0]*n\n",
    "        input_hs()\n",
    "    elif choice == 2:\n",
    "        output_hs()\n",
    "    elif choice == 3:\n",
    "        max_hs()\n",
    "    elif choice == 4:\n",
    "        decrease_hs()\n",
    "    elif choice == 5:\n",
    "        increase_hs()\n",
    "    elif choice == 6:\n",
    "        hs_9()\n",
    "    elif choice == 7:\n",
    "        break\n",
    "    else: print(\"Nhập lại giá trị chọn\")\n"
   ]
  },
  {
   "cell_type": "code",
   "execution_count": 3,
   "id": "c6b44080",
   "metadata": {},
   "outputs": [
    {
     "name": "stdout",
     "output_type": "stream",
     "text": [
      "dien tich hinh chu nhat bang: 200\n",
      "chu vi hinh chu nhat bang: 60\n"
     ]
    }
   ],
   "source": [
    "class ChuNhat:\n",
    "    def __init__(self, chieu_dai, chieu_rong):\n",
    "        self.chieu_dai = chieu_dai\n",
    "        self.chieu_rong = chieu_rong\n",
    "    def dien_tich(self):\n",
    "        return (self.chieu_dai * self.chieu_rong)\n",
    "    def chu_vi(self):\n",
    "        return ((self.chieu_dai + self.chieu_rong) * 2)\n",
    "chunhat1 = ChuNhat(10,20)\n",
    "print(f\"dien tich hinh chu nhat bang: {chunhat1.dien_tich()}\")\n",
    "print(f\"chu vi hinh chu nhat bang: {chunhat1.chu_vi()}\")"
   ]
  },
  {
   "cell_type": "code",
   "execution_count": 11,
   "id": "6c9d304e",
   "metadata": {},
   "outputs": [
    {
     "ename": "SyntaxError",
     "evalue": "expected ':' (2615727116.py, line 9)",
     "output_type": "error",
     "traceback": [
      "\u001b[1;36m  Cell \u001b[1;32mIn [11], line 9\u001b[1;36m\u001b[0m\n\u001b[1;33m    def in_phanso(self)\u001b[0m\n\u001b[1;37m                       ^\u001b[0m\n\u001b[1;31mSyntaxError\u001b[0m\u001b[1;31m:\u001b[0m expected ':'\n"
     ]
    }
   ],
   "source": [
    "class HocSinh:\n",
    "    def __init__(self, ten, diem):\n",
    "        self.ten = ten\n",
    "        self.diem = diem\n",
    "    def input_info(self):\n",
    "        a = [0]\n",
    "        while True:\n",
    "            a[i].ten = input(\"input student name: \")\n",
    "            a[i].diem = input(\"input student mark: \")"
   ]
  }
 ],
 "metadata": {
  "kernelspec": {
   "display_name": "Python 3 (ipykernel)",
   "language": "python",
   "name": "python3"
  },
  "language_info": {
   "codemirror_mode": {
    "name": "ipython",
    "version": 3
   },
   "file_extension": ".py",
   "mimetype": "text/x-python",
   "name": "python",
   "nbconvert_exporter": "python",
   "pygments_lexer": "ipython3",
   "version": "3.10.6"
  }
 },
 "nbformat": 4,
 "nbformat_minor": 5
}
