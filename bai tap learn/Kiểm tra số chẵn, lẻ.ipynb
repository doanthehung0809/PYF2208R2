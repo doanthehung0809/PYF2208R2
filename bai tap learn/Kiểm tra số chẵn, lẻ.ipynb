{
 "cells": [
  {
   "cell_type": "code",
   "execution_count": 4,
   "id": "173a0bd0",
   "metadata": {},
   "outputs": [
    {
     "name": "stdout",
     "output_type": "stream",
     "text": [
      "input n: 4\n",
      "4.0 là số chẵn\n"
     ]
    }
   ],
   "source": [
    "n = float(input(\"input n: \"))\n",
    "if (not n%2): print(f\"{n} là số chẵn\")\n",
    "elif n % 2 == 1: print(f\"{n} là số lẻ\")\n",
    "else: print(\"Không phải số tự nhiên\")"
   ]
  }
 ],
 "metadata": {
  "kernelspec": {
   "display_name": "Python 3 (ipykernel)",
   "language": "python",
   "name": "python3"
  },
  "language_info": {
   "codemirror_mode": {
    "name": "ipython",
    "version": 3
   },
   "file_extension": ".py",
   "mimetype": "text/x-python",
   "name": "python",
   "nbconvert_exporter": "python",
   "pygments_lexer": "ipython3",
   "version": "3.10.6"
  }
 },
 "nbformat": 4,
 "nbformat_minor": 5
}
