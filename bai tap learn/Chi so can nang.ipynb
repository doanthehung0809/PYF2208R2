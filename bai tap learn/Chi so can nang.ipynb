{
 "cells": [
  {
   "cell_type": "code",
   "execution_count": 1,
   "id": "ce2cfd32",
   "metadata": {},
   "outputs": [
    {
     "name": "stdout",
     "output_type": "stream",
     "text": [
      "Nhập chiều cao (cm): 170\n",
      "Nhập cân nặng (kg): 65\n",
      "Bình thường\n"
     ]
    }
   ],
   "source": [
    "chieu_cao = float(input(\"Nhập chiều cao (cm): \"))\n",
    "can_nang = float(input(\"Nhập cân nặng (kg): \"))\n",
    "BMI = can_nang/(chieu_cao*2/100)\n",
    "if BMI>40: print(\"Béo phì cấp độ III\")\n",
    "elif BMI>=30: print(\"Béo phì cấp độ II\")\n",
    "elif BMI>=25: print(\"Thừa cân\")\n",
    "elif BMI>=18.5: print(\"Bình thường\")\n",
    "elif BMI>=17: print(\"Gầy cấp độ I\")\n",
    "elif BMI>=16: print(\"Gầy cấp độ II\")\n",
    "else: print(\"Gầy cấp độ III\")"
   ]
  },
  {
   "cell_type": "code",
   "execution_count": 6,
   "id": "ff07b816",
   "metadata": {},
   "outputs": [
    {
     "name": "stdout",
     "output_type": "stream",
     "text": [
      "3\n"
     ]
    }
   ],
   "source": []
  }
 ],
 "metadata": {
  "kernelspec": {
   "display_name": "Python 3 (ipykernel)",
   "language": "python",
   "name": "python3"
  },
  "language_info": {
   "codemirror_mode": {
    "name": "ipython",
    "version": 3
   },
   "file_extension": ".py",
   "mimetype": "text/x-python",
   "name": "python",
   "nbconvert_exporter": "python",
   "pygments_lexer": "ipython3",
   "version": "3.10.6"
  }
 },
 "nbformat": 4,
 "nbformat_minor": 5
}
