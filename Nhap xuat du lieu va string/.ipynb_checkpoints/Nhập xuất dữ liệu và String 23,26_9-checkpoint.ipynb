{
 "cells": [
  {
   "cell_type": "markdown",
   "id": "7ac14915",
   "metadata": {},
   "source": [
    "# Nhập xuất dữ liệu và String\n",
    "## Cách nhập xuất dữ liệu"
   ]
  },
  {
   "cell_type": "markdown",
   "id": "0f202ae8",
   "metadata": {},
   "source": [
    "### Xuất dữ liệu ra màn hình\n",
    "Để in các nội dung mà chúng ta mong muốn ra màn hình, ta sử dụng lệnh print()"
   ]
  },
  {
   "cell_type": "code",
   "execution_count": 1,
   "id": "a6d3f260",
   "metadata": {},
   "outputs": [
    {
     "name": "stdout",
     "output_type": "stream",
     "text": [
      "python is very easy\n"
     ]
    }
   ],
   "source": [
    "# Ví dụ: In ra nội dung \"python is very easy\"\n",
    "print(\"python is very easy\")"
   ]
  },
  {
   "cell_type": "markdown",
   "id": "7733925a",
   "metadata": {},
   "source": [
    "### Các cách custom với lệnh print"
   ]
  },
  {
   "cell_type": "markdown",
   "id": "292ab570",
   "metadata": {},
   "source": [
    "Để in một nội dung kèm theo giá trị của biến, ta có các cách sau:"
   ]
  },
  {
   "cell_type": "code",
   "execution_count": 18,
   "id": "20ff912c",
   "metadata": {},
   "outputs": [
    {
     "data": {
      "text/plain": [
       "'ho'"
      ]
     },
     "execution_count": 18,
     "metadata": {},
     "output_type": "execute_result"
    }
   ],
   "source": [
    "food_1 = \"chocolate\"\n",
    "food_2 = \"sandwich\"\n",
    "#I love chocolate and i hate sandwich"
   ]
  },
  {
   "cell_type": "code",
   "execution_count": 2,
   "id": "6407a448",
   "metadata": {},
   "outputs": [
    {
     "name": "stdout",
     "output_type": "stream",
     "text": [
      "I love chocolate and i hate sanwich\n"
     ]
    }
   ],
   "source": [
    "# In trực tiếp\n",
    "print('I love chocolate and i hate sanwich' )"
   ]
  },
  {
   "cell_type": "code",
   "execution_count": 15,
   "id": "27d098b8",
   "metadata": {},
   "outputs": [
    {
     "name": "stdout",
     "output_type": "stream",
     "text": [
      "I love chocolate and i hate sandwich\n"
     ]
    }
   ],
   "source": [
    "# In bằng cách ghép các nội dung với nhau\n",
    "print(\"I love\", food_1, \"and i hate\", food_2)"
   ]
  },
  {
   "cell_type": "code",
   "execution_count": 16,
   "id": "717666f2",
   "metadata": {},
   "outputs": [
    {
     "name": "stdout",
     "output_type": "stream",
     "text": [
      "I love chocolate and i hate sandwich \n"
     ]
    }
   ],
   "source": [
    "# Sử dụng String Format cách thông dụng nên sử dụng\n",
    "print(f'I love {food_1} and i hate {food_2} ')"
   ]
  },
  {
   "cell_type": "code",
   "execution_count": 30,
   "id": "c7276e05",
   "metadata": {},
   "outputs": [
    {
     "name": "stdout",
     "output_type": "stream",
     "text": [
      "I love chocolate and i hate sandwich"
     ]
    }
   ],
   "source": [
    "# Sử dụng nhiều lệnh print\n",
    "print('I love ',end='') \n",
    "print(food_1,end='')\n",
    "print(' and i hate ',end='')\n",
    "print(food_2,end='')"
   ]
  },
  {
   "cell_type": "markdown",
   "id": "e10788fb",
   "metadata": {},
   "source": [
    "### Nhập dữ liệu\n",
    "Để nhập dữ liệu vào chương trình python, chúng ta sử dụng hàm input()"
   ]
  },
  {
   "cell_type": "code",
   "execution_count": 40,
   "id": "b8b8afd3",
   "metadata": {
    "scrolled": true
   },
   "outputs": [
    {
     "name": "stdout",
     "output_type": "stream",
     "text": [
      "Hãy nhập 1 số nguyên dương 666\n",
      "Số nguyên dương là: 666\n",
      "<class 'str'>\n"
     ]
    }
   ],
   "source": [
    "a=input('Hãy nhập 1 số nguyên dương ')\n",
    "print(f'Số nguyên dương là: {a}')\n",
    "print(type(a))"
   ]
  },
  {
   "cell_type": "code",
   "execution_count": 42,
   "id": "145ccf49",
   "metadata": {},
   "outputs": [
    {
     "name": "stdout",
     "output_type": "stream",
     "text": [
      "Nhập số điểm của bạn tại Kahoot 55\n",
      "<class 'int'>\n"
     ]
    }
   ],
   "source": [
    "# Nhập số nguyên (ép kiểu)\n",
    "score = int(input('Nhập số điểm của bạn tại Kahoot '))\n",
    "print(type(score))"
   ]
  },
  {
   "cell_type": "markdown",
   "id": "337f9c15",
   "metadata": {},
   "source": [
    "#### Thực hành: Viết chương trình nhập vào chiều dài và chiều rộng của hình chữ nhật, sau đó in ra chu vi và diện tích của hình chữ nhật đó"
   ]
  },
  {
   "cell_type": "code",
   "execution_count": 43,
   "id": "add68103",
   "metadata": {},
   "outputs": [
    {
     "name": "stdout",
     "output_type": "stream",
     "text": [
      "nhập chiều dài hình chữ nhật: 10\n",
      "nhập chiều rộng hình chữ nhật: 20\n"
     ]
    }
   ],
   "source": [
    "# Nhập các kích thước của hình chữ nhật\n",
    "a = int(input('nhập chiều dài hình chữ nhật: '))\n",
    "b = int(input('nhập chiều rộng hình chữ nhật: '))"
   ]
  },
  {
   "cell_type": "code",
   "execution_count": 44,
   "id": "7a1cd73e",
   "metadata": {},
   "outputs": [
    {
     "name": "stdout",
     "output_type": "stream",
     "text": [
      "Chu vi hình chữ nhật bằng: 15.0\n",
      "Diện tích hình chữ nhật bằng: 200\n"
     ]
    }
   ],
   "source": [
    "# Tính toán chu vi, diện tích\n",
    "P = (a+b)/2\n",
    "S = a*b"
   ]
  },
  {
   "cell_type": "code",
   "execution_count": null,
   "id": "d0adf735",
   "metadata": {},
   "outputs": [],
   "source": [
    "# In kết quả ra màn hình bằng 3 cách"
   ]
  },
  {
   "cell_type": "code",
   "execution_count": null,
   "id": "77abccf7",
   "metadata": {},
   "outputs": [],
   "source": [
    "# CÁCH 1: ghép nội dung với nhau\n",
    "print('Chu vi hình chữ nhật bằng: ', P)\n",
    "print('Diện tích hình chữ nhật bằng: ', S)\n",
    "\n",
    "# Cách 2: in sử dụng String\n",
    "print(f'Chu vi hình chữ nhật bằng: {P}')\n",
    "print(f'Diện tích hình chữ nhật bằng: {S}')\n",
    "\n",
    "# Cách 3: Sử dụng nhiều lệnh Print\n",
    "print('Chu vi hình chữ nhật bằng: ',end='')\n",
    "print(P)\n",
    "print('Diện tích hình chữ nhật bằng: ',end='')\n",
    "print(S)"
   ]
  },
  {
   "cell_type": "markdown",
   "id": "fb54cb77",
   "metadata": {},
   "source": [
    "#### Thực hành: Viết chương trình nhập vào số đo cạnh và mã màu của tam giác đều, sau đó sử dụng turtle để vẽ ra hình tam giác có số đo và màu tương ứng"
   ]
  },
  {
   "cell_type": "code",
   "execution_count": 1,
   "id": "7583b308",
   "metadata": {},
   "outputs": [
    {
     "name": "stdout",
     "output_type": "stream",
     "text": [
      "Nhập số đo cạnh của tam giác đều: 40\n",
      "Nhập mã màu của tam giác: red\n"
     ]
    }
   ],
   "source": [
    "import turtle\n",
    "side = int(input('Nhập số đo cạnh của tam giác đều: '))\n",
    "color = input('Nhập mã màu của tam giác: ')\n",
    "pen=turtle.Turtle()\n",
    "pen.fillcolor(color)\n",
    "pen.begin_fill()\n",
    "pen.circle(side,steps=4)\n",
    "pen.end_fill()\n",
    "turtle.done()"
   ]
  },
  {
   "cell_type": "markdown",
   "id": "fa7cb208",
   "metadata": {},
   "source": [
    "## Cú pháp import"
   ]
  },
  {
   "cell_type": "markdown",
   "id": "ab2a2ea5",
   "metadata": {},
   "source": [
    "Để sử dụng một module từ bên ngoài, chúng ta sẽ sử dụng từ khóa import. Sau đây là ví dụ về một số cách import phổ biến."
   ]
  },
  {
   "cell_type": "markdown",
   "id": "bd6de377",
   "metadata": {},
   "source": [
    "### Random một giá trị ngẫu nhiên"
   ]
  },
  {
   "cell_type": "code",
   "execution_count": null,
   "id": "ce5547f5",
   "metadata": {},
   "outputs": [],
   "source": []
  },
  {
   "cell_type": "markdown",
   "id": "dfa93dc0",
   "metadata": {},
   "source": [
    "### Thực hiện các phép toán số học"
   ]
  },
  {
   "cell_type": "code",
   "execution_count": 8,
   "id": "4f06f722",
   "metadata": {},
   "outputs": [],
   "source": [
    "# import toàn bộ module"
   ]
  },
  {
   "cell_type": "code",
   "execution_count": null,
   "id": "6b9e471b",
   "metadata": {},
   "outputs": [],
   "source": [
    "# import một phần trong module"
   ]
  },
  {
   "cell_type": "markdown",
   "id": "391969e7",
   "metadata": {},
   "source": [
    "## Xử lý String trong python"
   ]
  },
  {
   "cell_type": "markdown",
   "id": "ab461669",
   "metadata": {},
   "source": [
    "### String là gì?\n",
    "String là một chuỗi gồm các ký tự Unicode"
   ]
  },
  {
   "cell_type": "markdown",
   "id": "94a27b90",
   "metadata": {},
   "source": [
    "### Khởi tạo một string"
   ]
  },
  {
   "cell_type": "code",
   "execution_count": null,
   "id": "b14f4fcc",
   "metadata": {},
   "outputs": [],
   "source": [
    "# one-line string\n",
    "course_name = 'python Fundamental'"
   ]
  },
  {
   "cell_type": "code",
   "execution_count": 19,
   "id": "9cc506a7",
   "metadata": {},
   "outputs": [
    {
     "name": "stdout",
     "output_type": "stream",
     "text": [
      "kết thúc bài học này, bạn có thể:\n",
      "- Biết sử dụng string\n",
      "- Biết cách print dữ liệu\n"
     ]
    }
   ],
   "source": [
    "# multi-line string\n",
    "lesson_detail = '''kết thúc bài học này, bạn có thể:\n",
    "- Biết sử dụng string\n",
    "- Biết cách print dữ liệu\n",
    "'''\n",
    "print(lesson_detail.strip())"
   ]
  },
  {
   "cell_type": "markdown",
   "id": "8f4270fd",
   "metadata": {},
   "source": [
    "### Các thao tác phổ biến với string"
   ]
  },
  {
   "cell_type": "code",
   "execution_count": 4,
   "id": "c825f890",
   "metadata": {
    "scrolled": true
   },
   "outputs": [
    {
     "name": "stdout",
     "output_type": "stream",
     "text": [
      "Nhập tên của bạn: Đoàn Thế Hưng\n",
      "Tên của bạn có số ký tự là: 13\n"
     ]
    }
   ],
   "source": [
    "# Kiểm tra độ dài string\n",
    "Nhap_ten = input('Nhập tên của bạn: ')\n",
    "print(f'Tên của bạn có số ký tự là: {len(Nhap_ten)}')"
   ]
  },
  {
   "cell_type": "code",
   "execution_count": 9,
   "id": "6de96621",
   "metadata": {},
   "outputs": [
    {
     "name": "stdout",
     "output_type": "stream",
     "text": [
      "h\n",
      "o\n"
     ]
    }
   ],
   "source": [
    "# Truy xuất ký tự bằng cơ chế indexing và reverse indexing\n",
    "content = 'hello'\n",
    "\n",
    "#indexing: lấy từ phải qua trái\n",
    "print(content[0])\n",
    "#reverse: Lấy từ trái quả phải\n",
    "print(content[-1])"
   ]
  },
  {
   "cell_type": "markdown",
   "id": "a4f949d9",
   "metadata": {},
   "source": [
    "#### Thực hành: Viết chương trình nhập vào một chuỗi bất kỳ, sau đó in ra ký tự đầu tiên và ký tự cuối cùng của chuỗi đó."
   ]
  },
  {
   "cell_type": "code",
   "execution_count": 28,
   "id": "14833f18",
   "metadata": {},
   "outputs": [
    {
     "name": "stdout",
     "output_type": "stream",
     "text": [
      "Nhập thành phố bạn sống: viet tri\n",
      "v\n",
      "i\n",
      "viet tr\n"
     ]
    }
   ],
   "source": [
    "Thanh_Pho = input('Nhập thành phố bạn sống: ')\n",
    "#Lấy ký tự đầu tiên\n",
    "print(Thanh_Pho[0])\n",
    "#Lấy ký tự cuối cùng\n",
    "print(Thanh_Pho[-1])\n",
    "#Lấy ký tự trong khoảng\n",
    "print(Thanh_Pho[0:-1])"
   ]
  },
  {
   "cell_type": "code",
   "execution_count": 19,
   "id": "9aad2f16",
   "metadata": {},
   "outputs": [
    {
     "name": "stdout",
     "output_type": "stream",
     "text": [
      "nh là Hưng hôm nay\n",
      "n àHn ô a\n",
      "Mhàư mamhọtpềtn\n",
      "Mhàư mamhọtpềtn\n",
      "gr  ic ìy hn  ì\n"
     ]
    }
   ],
   "source": [
    "# Cắt string theo index\n",
    "content = 'Mình là Hưng hôm nay mình học tiếp về string'\n",
    "#Cắt ký tự thông thường\n",
    "print(content[2:20])\n",
    "#cắt nhảy bước\n",
    "print(content[2:20:2])\n",
    "#Cắt toàn bộ chuỗi ký tự\n",
    "print(content[0:len(content):3])\n",
    "#cắt toàn bộ mà bỏ qua các ký tự đầu và cuối (cách rút gọn)\n",
    "print(content[::3])\n",
    "#cắt ngược thì step sẽ để số âm (Cú pháp đảo ngược chuỗi hay dùng)\n",
    "print(content[::-3])"
   ]
  },
  {
   "cell_type": "code",
   "execution_count": 21,
   "id": "6ec63f90",
   "metadata": {},
   "outputs": [
    {
     "name": "stdout",
     "output_type": "stream",
     "text": [
      "xin chàoPython\n",
      "xin chàoxin chàoxin chào\n"
     ]
    }
   ],
   "source": [
    "# Ghép chuỗi và lặp chuỗi\n",
    "a = 'xin chào'\n",
    "b = 'Python'\n",
    "#ghép chuỗi\n",
    "print(a+b)\n",
    "#lặp chuỗi\n",
    "print(a*3)"
   ]
  },
  {
   "cell_type": "markdown",
   "id": "84c2dcb9",
   "metadata": {},
   "source": [
    "#### Thực hành: Xử lý và in ra các thông tin tương ứng trong chuỗi"
   ]
  },
  {
   "cell_type": "code",
   "execution_count": 45,
   "id": "cd71f135",
   "metadata": {},
   "outputs": [
    {
     "name": "stdout",
     "output_type": "stream",
     "text": [
      "Mình\n",
      "là \n",
      "strin\n"
     ]
    }
   ],
   "source": [
    "content = 'Mình là Hưng hôm nay mình học tiếp về string'\n",
    "#in ra chữ \"Mình\"\n",
    "print(content[0:4])\n",
    "#in ra chữ \"là\"\n",
    "print(content[5:8])\n",
    "#in ra chữ \"string\"\n",
    "print(content[-6:-1])\n"
   ]
  },
  {
   "cell_type": "markdown",
   "id": "7cbd965f",
   "metadata": {},
   "source": [
    "### Các hàm thông dụng khi xử lý string"
   ]
  },
  {
   "cell_type": "code",
   "execution_count": 49,
   "id": "eb5932a1",
   "metadata": {},
   "outputs": [
    {
     "data": {
      "text/plain": [
       "17"
      ]
     },
     "execution_count": 49,
     "metadata": {},
     "output_type": "execute_result"
    }
   ],
   "source": [
    "# len\n",
    "content = 'python fudamental'\n",
    "len(content)"
   ]
  },
  {
   "cell_type": "code",
   "execution_count": 50,
   "id": "6bef6d33",
   "metadata": {},
   "outputs": [
    {
     "name": "stdout",
     "output_type": "stream",
     "text": [
      "2\n",
      "1\n"
     ]
    }
   ],
   "source": [
    "# count\n",
    "print(content.count('n'))\n",
    "print(content.count('python'))"
   ]
  },
  {
   "cell_type": "code",
   "execution_count": 55,
   "id": "1582bbd8",
   "metadata": {},
   "outputs": [
    {
     "name": "stdout",
     "output_type": "stream",
     "text": [
      "CHÀO PYTHON NHÉ\n",
      "chào python nhé\n",
      "Chào python nhé\n"
     ]
    }
   ],
   "source": [
    "# upper, lower\n",
    "content = 'Chào PYthon nhé'\n",
    "#Viết hoa toàn bộ ký tự\n",
    "print(content.upper())\n",
    "#Viết thường toàn bộ ký tự\n",
    "print(content.lower())\n",
    "# Đổi kiểu hoa thường lẫn lộn thành bình thường\n",
    "print(content.capitalize())"
   ]
  },
  {
   "cell_type": "code",
   "execution_count": 59,
   "id": "0d08f708",
   "metadata": {},
   "outputs": [
    {
     "name": "stdout",
     "output_type": "stream",
     "text": [
      "Chào        PYthon            nhé            \n",
      "             Chào        PYthon            nhé\n",
      "Chào        PYthon            nhé\n"
     ]
    }
   ],
   "source": [
    "# lstrip, rstrip, strip\n",
    "content = '             Chào        PYthon            nhé            '\n",
    "# có nhiều khoảng cách dư thừa phía bên trái trailing space\n",
    "print(content.lstrip())\n",
    "# có nhiều khoảng cách dư thừa phía bên phải trailing space\n",
    "print(content.rstrip())\n",
    "# Cắt dư thừa cả 2 bên\n",
    "print(content.strip())"
   ]
  },
  {
   "cell_type": "code",
   "execution_count": 67,
   "id": "62180d52",
   "metadata": {},
   "outputs": [
    {
     "name": "stdout",
     "output_type": "stream",
     "text": [
      "['Đoàn Thế Hưng', '2-4-6', 'python', 'string']\n"
     ]
    }
   ],
   "source": [
    "# split (cắt theo điều kiện)\n",
    "content='Đoàn Thế Hưng,2-4-6,python,string'\n",
    "print(content.split(','))"
   ]
  },
  {
   "cell_type": "markdown",
   "id": "032ba1fc",
   "metadata": {},
   "source": []
  }
 ],
 "metadata": {
  "kernelspec": {
   "display_name": "Python 3 (ipykernel)",
   "language": "python",
   "name": "python3"
  },
  "language_info": {
   "codemirror_mode": {
    "name": "ipython",
    "version": 3
   },
   "file_extension": ".py",
   "mimetype": "text/x-python",
   "name": "python",
   "nbconvert_exporter": "python",
   "pygments_lexer": "ipython3",
   "version": "3.10.6"
  }
 },
 "nbformat": 4,
 "nbformat_minor": 5
}
