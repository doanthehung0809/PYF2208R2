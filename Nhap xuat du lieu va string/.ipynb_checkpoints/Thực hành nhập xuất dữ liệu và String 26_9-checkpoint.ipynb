{
 "cells": [
  {
   "cell_type": "markdown",
   "id": "ea54ba2a",
   "metadata": {},
   "source": [
    "## Bài 1: \n",
    "Viết chương trình nhập vào 1 chuỗi và in ra các ký tự có index là số chẵn trong chuỗi"
   ]
  },
  {
   "cell_type": "code",
   "execution_count": null,
   "id": "437ffda7",
   "metadata": {},
   "outputs": [],
   "source": [
    "content = 'Thực hành nhập xuất dữ liệu và string'\n",
    "print(content[::2])"
   ]
  },
  {
   "cell_type": "markdown",
   "id": "de371ed5",
   "metadata": {},
   "source": [
    "## Bài 2\n",
    "Nhập 1 số đo ở đơn vị (m). in ra số đo vừa nhập ở đơn vị xen-ti-met(cm)"
   ]
  },
  {
   "cell_type": "code",
   "execution_count": 9,
   "id": "1130c9c7",
   "metadata": {
    "scrolled": true
   },
   "outputs": [
    {
     "name": "stdout",
     "output_type": "stream",
     "text": [
      "Nhập giá trị đo: 10\n",
      "10 mét bằng 1000 cm\n"
     ]
    }
   ],
   "source": [
    "m = int(input('Nhập giá trị đo: '))\n",
    "cm=m*100\n",
    "print(f'{m} mét bằng {cm} cm')"
   ]
  },
  {
   "cell_type": "markdown",
   "id": "2ff1ce17",
   "metadata": {},
   "source": [
    "## Bài 3\n",
    "Nhập vào tien_luong_theo_gio và so_gio_lam_viec trong 1 tháng tien_thuong\n",
    "In ra tong_thu_nhap = Tiền lương theo giờ*'số giờ làm việc'+'Tiền thưởng'"
   ]
  },
  {
   "cell_type": "code",
   "execution_count": 12,
   "id": "36a86734",
   "metadata": {
    "scrolled": false
   },
   "outputs": [
    {
     "name": "stdout",
     "output_type": "stream",
     "text": [
      "Nhập tiền lương theo giờ của nhân viên: 30000\n",
      "Nhập số giờ làm việc của nhân viên: 3\n",
      "Nhập tiền thưởng của nhân viên: 100000\n",
      "Tổng thu nhập của nhân viên là: 190000.0\n"
     ]
    }
   ],
   "source": [
    "tien_luong_theo_gio = float(input('Nhập tiền lương theo giờ của nhân viên: '))\n",
    "so_gio_lam_viec = float(input('Nhập số giờ làm việc của nhân viên: '))\n",
    "tien_thuong = float(input('Nhập tiền thưởng của nhân viên: '))\n",
    "tong_thu_nhap = tien_luong_theo_gio * so_gio_lam_viec + tien_thuong\n",
    "print(f'Tổng thu nhập của nhân viên là: {tong_thu_nhap}')"
   ]
  },
  {
   "cell_type": "markdown",
   "id": "620d9a03",
   "metadata": {},
   "source": [
    "## Bài 4\n",
    "nhập vào 1 'string' và 1 số 'x'. Hãy xoá 'x' ký tự đầu tiên của 'string'"
   ]
  },
  {
   "cell_type": "code",
   "execution_count": 24,
   "id": "2e0cf6ec",
   "metadata": {
    "scrolled": false
   },
   "outputs": [
    {
     "name": "stdout",
     "output_type": "stream",
     "text": [
      "Nhập số ký tự muốn xoá: 12\n",
      "Chuỗi sau khi xoá x ký tự là: ơng theo giờ của nhân viên\n"
     ]
    }
   ],
   "source": [
    "a='Nhập tiền lương theo giờ của nhân viên'\n",
    "x=int(input('Nhập số ký tự muốn xoá: '))\n",
    "print(f'Chuỗi sau khi xoá x ký tự là: {a[x:]}')"
   ]
  },
  {
   "cell_type": "markdown",
   "id": "c10b6fb3",
   "metadata": {},
   "source": [
    "## Bài 5\n",
    "Nhập vào 1 'string' kiểm tra xem đây có phải là 1 'string' đối xứng không\n",
    "note: Chuỗi đối xứng là chuỗi có thứ tự giống nhau khi đọc từ trái qua phải và ngược lại\n",
    "ví dụ: abba"
   ]
  },
  {
   "cell_type": "code",
   "execution_count": 41,
   "id": "f20d6461",
   "metadata": {},
   "outputs": [
    {
     "name": "stdout",
     "output_type": "stream",
     "text": [
      "Nhập chuỗi: abba\n",
      "chuỗi đối xứng: True\n"
     ]
    }
   ],
   "source": [
    "string = input('Nhập chuỗi: ')\n",
    "reversed_string = string[::-1]\n",
    "print(f'chuỗi đối xứng: {string==reversed_string}')"
   ]
  }
 ],
 "metadata": {
  "kernelspec": {
   "display_name": "Python 3 (ipykernel)",
   "language": "python",
   "name": "python3"
  },
  "language_info": {
   "codemirror_mode": {
    "name": "ipython",
    "version": 3
   },
   "file_extension": ".py",
   "mimetype": "text/x-python",
   "name": "python",
   "nbconvert_exporter": "python",
   "pygments_lexer": "ipython3",
   "version": "3.10.6"
  }
 },
 "nbformat": 4,
 "nbformat_minor": 5
}
