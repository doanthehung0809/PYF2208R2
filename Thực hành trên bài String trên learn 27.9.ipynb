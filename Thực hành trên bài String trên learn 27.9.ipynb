{
 "cells": [
  {
   "cell_type": "markdown",
   "id": "cf2f84a8",
   "metadata": {},
   "source": [
    "## Bài 1\n",
    "Tính chu vi và diện tích hình tròn. Nhập vào bán kính của hình tròn, vẽ hình tròn có bán kính đã nhập. Tính chu vi và diện tích của hình tròn có bán kính vừa nhập. Hiển thị kết quả ra màn hình"
   ]
  },
  {
   "cell_type": "code",
   "execution_count": 1,
   "id": "8767a907",
   "metadata": {},
   "outputs": [
    {
     "name": "stdout",
     "output_type": "stream",
     "text": [
      "nhập số đo bán kính: 10\n",
      "Diện tích hình tròn là: 314.1592653589793\n",
      "Chu vi hình tròn là: 62.83185307179586\n"
     ]
    }
   ],
   "source": [
    "import math\n",
    "r=int(input('nhập số đo bán kính: '))\n",
    "S = r*r*math.pi\n",
    "P = 2*r*math.pi\n",
    "print(f'Diện tích hình tròn là: {S}')\n",
    "print(f'Chu vi hình tròn là: {P}')"
   ]
  },
  {
   "cell_type": "markdown",
   "id": "5ea9d219",
   "metadata": {},
   "source": [
    "## Bài 2\n",
    "Tô màu cho hình chữ nhật. Nhập vào tên màu/mã màu cần tô. Nhập vào chiều dài, rộng hình chữ nhật. Vẽ hình chữ nhật. Tô màu cho hình chữ nhật theo màu vừa nhập."
   ]
  },
  {
   "cell_type": "code",
   "execution_count": 1,
   "id": "f2787abe",
   "metadata": {},
   "outputs": [
    {
     "name": "stdout",
     "output_type": "stream",
     "text": [
      "Nhập màu cần tô: green\n",
      "Nhập chiều rộng hình chữ nhật: 10\n",
      "Nhập chiều dài hình chữ nhật: 20\n"
     ]
    }
   ],
   "source": [
    "import turtle\n",
    "color = input('Nhập màu cần tô: ')\n",
    "a = int(input('Nhập chiều rộng hình chữ nhật: '))\n",
    "b = int(input('Nhập chiều dài hình chữ nhật: '))\n",
    "t=turtle.Turtle()\n",
    "t.color(color)\n",
    "t.begin_fill()\n",
    "t.forward(a)\n",
    "t.right(90)\n",
    "t.forward(b)\n",
    "t.right(90)\n",
    "t.forward(a)\n",
    "t.right(90)\n",
    "t.forward(b)\n",
    "t.right(90)\n",
    "t.end_fill()\n",
    "turtle.done()"
   ]
  },
  {
   "cell_type": "markdown",
   "id": "bc48f64c",
   "metadata": {},
   "source": [
    "## Bài 3\n",
    "Ứng dụng chuyển đổi tiền tệ. Ứng dụng chuyển đổi tiền tệ cho phép tính giá trị tiền tệ giữa các đồng tiền khác nhau dựa vào một tỉ giá cho trước."
   ]
  },
  {
   "cell_type": "code",
   "execution_count": 1,
   "id": "c4f48736",
   "metadata": {},
   "outputs": [
    {
     "name": "stdout",
     "output_type": "stream",
     "text": [
      "Nhập số tiền muốn chuyển đổi: 10\n",
      "10 USD đổi được 240000 VND\n"
     ]
    }
   ],
   "source": [
    "USD = int(input('Nhập số tiền muốn chuyển đổi: '))\n",
    "VND = USD*24000\n",
    "print(f'{USD} USD đổi được {VND} VND')"
   ]
  }
 ],
 "metadata": {
  "kernelspec": {
   "display_name": "Python 3 (ipykernel)",
   "language": "python",
   "name": "python3"
  },
  "language_info": {
   "codemirror_mode": {
    "name": "ipython",
    "version": 3
   },
   "file_extension": ".py",
   "mimetype": "text/x-python",
   "name": "python",
   "nbconvert_exporter": "python",
   "pygments_lexer": "ipython3",
   "version": "3.10.6"
  }
 },
 "nbformat": 4,
 "nbformat_minor": 5
}
