{
 "cells": [
  {
   "cell_type": "code",
   "execution_count": 2,
   "id": "f4a93ba3",
   "metadata": {},
   "outputs": [
    {
     "name": "stdout",
     "output_type": "stream",
     "text": [
      "Nhập số nguyên: 4\n",
      "4 là số Số chẵn\n"
     ]
    }
   ],
   "source": [
    "n = int(input(\"Nhập số nguyên: \"))\n",
    "kq = \"Số chẵn\" if (not n%2) else \"Số lẻ\"\n",
    "print(f'{n} là số {kq}')"
   ]
  }
 ],
 "metadata": {
  "kernelspec": {
   "display_name": "Python 3 (ipykernel)",
   "language": "python",
   "name": "python3"
  },
  "language_info": {
   "codemirror_mode": {
    "name": "ipython",
    "version": 3
   },
   "file_extension": ".py",
   "mimetype": "text/x-python",
   "name": "python",
   "nbconvert_exporter": "python",
   "pygments_lexer": "ipython3",
   "version": "3.10.6"
  }
 },
 "nbformat": 4,
 "nbformat_minor": 5
}
