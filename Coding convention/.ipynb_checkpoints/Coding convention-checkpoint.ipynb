{
 "cells": [
  {
   "cell_type": "markdown",
   "id": "5d11a626",
   "metadata": {},
   "source": [
    "# 1. Coding convention là gì? \n",
    "\n",
    "# 2. Coding convention dùng để làm gì? \n",
    "\n",
    "# 3. Nếu không dùng Coding convention khi viết code có được không?\n",
    "\n",
    "# 4. Lợi ích khi dùng Coding convention là gì?\n",
    "\n",
    "# 5. Sử dụng như thế nào?"
   ]
  },
  {
   "cell_type": "markdown",
   "id": "9fb96ce3",
   "metadata": {},
   "source": [
    "# 1. Coding convention là gì? "
   ]
  },
  {
   "cell_type": "markdown",
   "id": "68656dac",
   "metadata": {},
   "source": [
    "Coding convention: là những quy tắc chung khi lập trình"
   ]
  },
  {
   "cell_type": "markdown",
   "id": "a1d649fa",
   "metadata": {},
   "source": [
    "# 2.Coding convention dùng để làm gì? "
   ]
  },
  {
   "cell_type": "markdown",
   "id": "30b89e83",
   "metadata": {},
   "source": [
    "40 đến 80% chi phí của một dự án phần mềm là dành cho việc bảo trì\\\n",
    "Coding convention: Code dễ đọc, dễ hiểu hơn vì vậy dễ bảo trì và sửa lỗi hơn\\\n",
    "Đặt tên như a, b, c, function1, function2 hay firstName, lastName, getName(), findMember()"
   ]
  },
  {
   "cell_type": "markdown",
   "id": "4df0df38",
   "metadata": {},
   "source": [
    "# 3. Nếu không dùng Coding convention khi viết code có được không?"
   ]
  },
  {
   "cell_type": "markdown",
   "id": "bae382ee",
   "metadata": {},
   "source": [
    "Nếu không dùng Coding convention khi viết code có được không? Viết code không cần theo quy tắc được không?\\\n",
    "Hoàn toàn có thể. Tuy nhiên phần mềm khi được nâng cấp, bảo trì hoặc tìm và sửa lỗi sai sẽ gặp nhiều khó khăn và \n",
    "thời gian sau khó có thể nhớ code hay cách đặt tên vậy có ý nghĩa hay đã viết gì"
   ]
  },
  {
   "cell_type": "markdown",
   "id": "3a9a7029",
   "metadata": {},
   "source": [
    "# 4. Lợi ích khi dùng Coding convention là gì?"
   ]
  },
  {
   "cell_type": "markdown",
   "id": "320d64db",
   "metadata": {},
   "source": [
    "1. Năng suất làm việc nhanh hơn.\n",
    "2. Quy tắc hoạt động của Code Convention theo tính thống nhất và tuân thủ theo tiêu chuẩn sẽ dễ dàng làm việc hơn.\n",
    "3. Khi viết Code bằng Code Convention, sẽ khiến người khác dễ hiểu và nắm bắt được cái mà bạn truyền tải đến.\n",
    "4. Phần mềm Code Convention dễ dàng nâng cấp và được cải tiến.\n",
    "5. Code Convention có thể tái sử dụng trong nhiều phần mềm và các ứng dụng khác.\n",
    "6. Việc bảo trì hệ thống với Code Convention trở nên thuận lợi và dễ dàng hơn bao giờ hết."
   ]
  },
  {
   "cell_type": "markdown",
   "id": "b5e8afca",
   "metadata": {},
   "source": [
    "# 5. Nếu dùng thì dùng thì dùng như thế nào?"
   ]
  },
  {
   "cell_type": "markdown",
   "id": "d665549b",
   "metadata": {},
   "source": [
    "**1. Code convention đối với hàm:**\n",
    ">- Quy tắc đặt tên của hàm: Sử dụng **chữ cái thường**, không sử dụng chữ in hoa. Phân tách các từ bởi dấu **gạch dưới**. \\\n",
    "Ví dụ: function, my_function\n",
    "\n",
    "**2. Blank lines (Dòng trống):**\n",
    ">Cải thiện đáng kể khả năng đọc code của bạn\\\n",
    ">Ví dụ:\\\n",
    "def first_method(self):\\\n",
    "return None\\\n",
    "\\\n",
    "def second_method(self):\\\n",
    "    return None\n",
    "\n",
    "**3. Độ dài một dòng và thụt lề: MAX = 79**\n",
    ">Nếu Max > 79: Ngắt dòng và bắt đầu dòng kế tiếp thụt vào 4 khoảng trắng liên tiếp\n",
    "\n",
    "Ví dụ:\n",
    "def function(arg_one, arg_two,\n",
    "             \targ_three, arg_four):\n",
    "    \treturn arg_one\n",
    "\n",
    "**4. Comment (bình luận): Nên viết bình luận cho các dòng code của bạn trước khi viết.**\n",
    ">- Max đa 72 kí tự.\n",
    ">- Câu hoàn chỉnh, bắt đầu với chữ viết hoa.\n",
    ">- Thụt lề của khối bình luận cùng mức với đoạn code mà nó miêu tả.\n",
    ">- Bắt đầu mỗi dòng với kí tự #, theo sau nó là một dấu cách đơn.(# )\n",
    ">- Tách các đoạn trong khối bình luận bằng một dòng chỉ chứa kí tự #.\\\n",
    "\n",
    "**5. Khoảng trắng trong biểu thức, câu lệnh:**\n",
    ">- Khi thực hiện gán dữ liệu mặc định cho tham số truyền vào function thì không đặt khoảng trắng bao quanh dấu =\\\n",
    "def    sum_number_v1(number1, number2=0):\\\n",
    "    total  = number1 + number2\\\n",
    "\treturn total\n",
    ">- các toán tử số học +, -, *, /, // lựa chọn bao xung quanh các toán tử bằng khoảng trắng\\\n",
    "total = number1 + number2\n",
    "minus = number1 - number2\n",
    "\n",
    "**6. Quy tắc đặt tên:**\n",
    ">https://phptravels.vn/cac-quy-uoc-dat-ten-trong-python-huong-dan-chi-tiet-quy-tac-dat-ten-bien-trong-python/"
   ]
  }
 ],
 "metadata": {
  "kernelspec": {
   "display_name": "Python 3 (ipykernel)",
   "language": "python",
   "name": "python3"
  },
  "language_info": {
   "codemirror_mode": {
    "name": "ipython",
    "version": 3
   },
   "file_extension": ".py",
   "mimetype": "text/x-python",
   "name": "python",
   "nbconvert_exporter": "python",
   "pygments_lexer": "ipython3",
   "version": "3.10.6"
  }
 },
 "nbformat": 4,
 "nbformat_minor": 5
}
