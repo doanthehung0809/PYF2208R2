{
 "cells": [
  {
   "cell_type": "markdown",
   "id": "4c559a90",
   "metadata": {},
   "source": [
    "## pack\n",
    "\n",
    "Lệnh `pack()` sẽ giúp sắp xếp các đối tượng theo thứ tự nhất định"
   ]
  },
  {
   "cell_type": "code",
   "execution_count": 4,
   "id": "d6af98e3",
   "metadata": {},
   "outputs": [],
   "source": [
    "from tkinter import *\n",
    "window = Tk()\n",
    "window.title(\"Registration\")\n",
    "\n",
    "registration_lbl = Label(window, text=\"Registration form\")\n",
    "fullname_lbl = Label(window, text=\"Full name\")\n",
    "address_lbl = Label(window, text=\"Address\")\n",
    "email_lbl = Label(window, text=\"Email\")\n",
    "\n",
    "fullname = Entry(window)\n",
    "address = Entry(window)\n",
    "email = Entry(window)\n",
    "\n",
    "register_btn = Button(window, text=\"Register\")\n",
    "\n",
    "registration_lbl.pack()\n",
    "fullname_lbl.pack()\n",
    "fullname.pack()\n",
    "address_lbl.pack()\n",
    "address.pack()\n",
    "email_lbl.pack()\n",
    "email.pack()\n",
    "register_btn.pack()\n",
    "\n",
    "window.mainloop()"
   ]
  },
  {
   "cell_type": "markdown",
   "id": "0093b00d",
   "metadata": {},
   "source": [
    "## grid\n",
    "Lệnh `grid()` sẽ giúp sắp xếp các đối tượng theo một bảng"
   ]
  },
  {
   "cell_type": "code",
   "execution_count": 1,
   "id": "d89cd306",
   "metadata": {},
   "outputs": [],
   "source": [
    "from tkinter import *\n",
    "window = Tk()\n",
    "window.title(\"Registration\")\n",
    "\n",
    "registration_lbl = Label(window, text=\"Registration form\")\n",
    "fullname_lbl = Label(window, text=\"Full name\")\n",
    "address_lbl = Label(window, text=\"Address\")\n",
    "email_lbl = Label(window, text=\"Email\")\n",
    "\n",
    "fullname = Entry(window)\n",
    "address = Entry(window)\n",
    "email = Entry(window)\n",
    "\n",
    "register_btn = Button(window, text=\"Register\")\n",
    "\n",
    "registration_lbl.grid(row=0, column=0, columnspan=2)\n",
    "fullname_lbl.grid(row=1, column=0)\n",
    "address_lbl.grid(row=2, column=0)\n",
    "email_lbl.grid(row=3, column=0)\n",
    "fullname.grid(row=1, column=1)\n",
    "address.grid(row=2, column=1)\n",
    "email.grid(row=3, column=1)\n",
    "register_btn.grid(row=4, column=0)\n",
    "\n",
    "window.mainloop()"
   ]
  },
  {
   "cell_type": "markdown",
   "id": "f0a05577",
   "metadata": {},
   "source": [
    "## place\n",
    "\n",
    "Lệnh `place()` sắp xếp các widget bằng cách đặt chúng vào một vị trí cụ thể trong widget chính."
   ]
  },
  {
   "cell_type": "code",
   "execution_count": 13,
   "id": "070e6374",
   "metadata": {},
   "outputs": [],
   "source": [
    "from tkinter import *\n",
    "window = Tk()\n",
    "window.title(\"Registration\")\n",
    "\n",
    "registration_lbl = Label(window, text=\"Registration form\")\n",
    "fullname_lbl = Label(window, text=\"Full name\")\n",
    "address_lbl = Label(window, text=\"Address\")\n",
    "email_lbl = Label(window, text=\"Email\")\n",
    "\n",
    "fullname = Entry(window)\n",
    "address = Entry(window)\n",
    "email = Entry(window)\n",
    "\n",
    "register_btn = Button(window, text=\"Register\")\n",
    "\n",
    "registration_lbl.place(x=100, y=30)\n",
    "fullname_lbl.place(x=100, y=80)\n",
    "fullname.place(x=130, y=50)\n",
    "address_lbl.place(x=100, y=70)\n",
    "address.place(x=130, y=70)\n",
    "email_lbl.place(x=100, y=90)\n",
    "email.place(x=130, y=90)\n",
    "register_btn.place(x=100, y=110)\n",
    "fullname.place()\n",
    "\n",
    "window.mainloop()"
   ]
  }
 ],
 "metadata": {
  "kernelspec": {
   "display_name": "Python 3 (ipykernel)",
   "language": "python",
   "name": "python3"
  },
  "language_info": {
   "codemirror_mode": {
    "name": "ipython",
    "version": 3
   },
   "file_extension": ".py",
   "mimetype": "text/x-python",
   "name": "python",
   "nbconvert_exporter": "python",
   "pygments_lexer": "ipython3",
   "version": "3.10.6"
  }
 },
 "nbformat": 4,
 "nbformat_minor": 5
}
