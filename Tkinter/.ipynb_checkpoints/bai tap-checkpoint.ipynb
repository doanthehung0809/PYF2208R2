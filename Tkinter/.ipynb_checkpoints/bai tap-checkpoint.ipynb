{
 "cells": [
  {
   "cell_type": "code",
   "execution_count": 19,
   "id": "7125d401",
   "metadata": {},
   "outputs": [],
   "source": [
    "from tkinter import *\n",
    "window = Tk()\n",
    "window.title(\"Ingredient management system\")\n",
    "window.geometry(\"600x300\")\n",
    "\n",
    "name_lbl = Label(window, text=\"Name:\")\n",
    "quality_lbl = Label(window, text=\"Quality:\")\n",
    "\n",
    "name = Entry(window, width=30)\n",
    "quality = Entry(window, width=30)\n",
    "search = Entry(window)\n",
    "\n",
    "add_btn = Button(window, text=\"Add\")\n",
    "delete_btn = Button(window, text=\"Delete\")\n",
    "reset_btn = Button(window, text=\"Reset\")\n",
    "search_btn = Button(window, text=\"Search\")\n",
    "\n",
    "name_lbl.place(x=100, y=30)\n",
    "name.place(x=200, y=30)\n",
    "\n",
    "quality_lbl.place(x=100, y=60)\n",
    "quality.place(x=200, y=60)\n",
    "\n",
    "add_btn.place(x=100, y=90, width=80)\n",
    "\n",
    "delete_btn.place(x=240, y=90, width=80)\n",
    "\n",
    "reset_btn.place(x=380, y=90, width=80)\n",
    "\n",
    "search.place(x=100, y=140)\n",
    "search_btn.place(x=250, y=135, width=80)\n",
    "\n",
    "window.mainloop()"
   ]
  }
 ],
 "metadata": {
  "kernelspec": {
   "display_name": "Python 3 (ipykernel)",
   "language": "python",
   "name": "python3"
  },
  "language_info": {
   "codemirror_mode": {
    "name": "ipython",
    "version": 3
   },
   "file_extension": ".py",
   "mimetype": "text/x-python",
   "name": "python",
   "nbconvert_exporter": "python",
   "pygments_lexer": "ipython3",
   "version": "3.10.6"
  }
 },
 "nbformat": 4,
 "nbformat_minor": 5
}
