{
 "cells": [
  {
   "cell_type": "code",
   "execution_count": 1,
   "id": "5ffdaa50",
   "metadata": {},
   "outputs": [],
   "source": [
    "from tkinter import *\n",
    "from tkinter import messagebox\n",
    "\n",
    "windows = Tk()\n",
    "windows.title(\"BMI Calculator\")\n",
    "\n",
    "intro_lbl = Label(windows, text=\"BMI Calculator\")\n",
    "myweight_lbl = Label(windows, text=\"My weight(kg)\")\n",
    "myheight_lbl = Label(windows, text = \"My height(cm)\")\n",
    "\n",
    "myweight = Entry(windows)\n",
    "myheight = Entry(windows)\n",
    "\n",
    "def submit():\n",
    "    weight = float(myweight.get())\n",
    "    height = float(myheight.get()) / 100\n",
    "    bmi = round(weight/(height*height), 1)\n",
    "    \n",
    "    status = ''\n",
    "    if bmi < 16:\n",
    "        status = \"Gầy cấp độ III\"\n",
    "    elif bmi < 17:\n",
    "        status = \"Gầy cấp độ II\"\n",
    "    elif bmi < 18.5:\n",
    "        status = \"Gầy cấp độ I\"\n",
    "    elif bmi < 25:\n",
    "        status = \"Bình thường\"\n",
    "    elif bmi < 30:\n",
    "        status = \"Thừa cân\"\n",
    "    elif bmi < 35:\n",
    "        status = \"Béo phì cấp độ I\"\n",
    "    elif bmi < 40:\n",
    "        status = \"Béo phì cấp độ II\"\n",
    "    else:\n",
    "        status = \"Béo phì cấp độ III\"\n",
    "    \n",
    "    messagebox.showinfo(\"BMI Result\", f\"Your BMI is {bmi}. Status: {status}\") \n",
    "    \n",
    "submit_btn = Button(windows,text=\"Submit\", command = submit)\n",
    "\n",
    "intro_lbl.grid(row=0,column=0,columnspan=2)\n",
    "myweight_lbl.grid(row=1,column=0)\n",
    "myheight_lbl.grid(row=2,column=0)\n",
    "\n",
    "myweight.grid(row=1,column=1)\n",
    "myheight.grid(row=2,column=1)\n",
    "submit_btn.grid(row=3, column=1)\n",
    "\n",
    "windows.mainloop()"
   ]
  }
 ],
 "metadata": {
  "kernelspec": {
   "display_name": "Python 3 (ipykernel)",
   "language": "python",
   "name": "python3"
  },
  "language_info": {
   "codemirror_mode": {
    "name": "ipython",
    "version": 3
   },
   "file_extension": ".py",
   "mimetype": "text/x-python",
   "name": "python",
   "nbconvert_exporter": "python",
   "pygments_lexer": "ipython3",
   "version": "3.10.6"
  }
 },
 "nbformat": 4,
 "nbformat_minor": 5
}
