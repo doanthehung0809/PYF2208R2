{
 "cells": [
  {
   "cell_type": "code",
   "execution_count": 1,
   "id": "69720947",
   "metadata": {},
   "outputs": [],
   "source": [
    "class Ingredient:\n",
    "    def __init__(self, name, quantity):\n",
    "        self.name = name\n",
    "        self.quantity = quantity"
   ]
  },
  {
   "cell_type": "code",
   "execution_count": 2,
   "id": "ff4bff55",
   "metadata": {},
   "outputs": [
    {
     "name": "stdout",
     "output_type": "stream",
     "text": [
      "['ga']\n",
      "['ga', 'bo']\n"
     ]
    },
    {
     "name": "stderr",
     "output_type": "stream",
     "text": [
      "Exception in Tkinter callback\n",
      "Traceback (most recent call last):\n",
      "  File \"C:\\Users\\admin\\AppData\\Local\\Programs\\Python\\Python310\\lib\\tkinter\\__init__.py\", line 1921, in __call__\n",
      "    return self.func(*args)\n",
      "  File \"C:\\Users\\admin\\AppData\\Local\\Temp\\ipykernel_4420\\4025760418.py\", line 30, in search_ingredient\n",
      "    messagebox.showinfo(\"ingredient\",f\"quantity of {item.name} is {item.quatity}\")\n",
      "AttributeError: 'Ingredient' object has no attribute 'quatity'\n"
     ]
    },
    {
     "name": "stdout",
     "output_type": "stream",
     "text": [
      "['ga', 'bo', 'trau']\n"
     ]
    },
    {
     "name": "stderr",
     "output_type": "stream",
     "text": [
      "Exception in Tkinter callback\n",
      "Traceback (most recent call last):\n",
      "  File \"C:\\Users\\admin\\AppData\\Local\\Programs\\Python\\Python310\\lib\\tkinter\\__init__.py\", line 1921, in __call__\n",
      "    return self.func(*args)\n",
      "  File \"C:\\Users\\admin\\AppData\\Local\\Temp\\ipykernel_4420\\4025760418.py\", line 30, in search_ingredient\n",
      "    messagebox.showinfo(\"ingredient\",f\"quantity of {item.name} is {item.quatity}\")\n",
      "AttributeError: 'Ingredient' object has no attribute 'quatity'\n"
     ]
    }
   ],
   "source": [
    "from tkinter import *\n",
    "from tkinter import messagebox\n",
    "\n",
    "window = Tk()\n",
    "window.title(\"Ingredient management system\")\n",
    "window.geometry(\"600x300\")\n",
    "list_ingredient = [] # lưu trữ danh sách nguyên liệu trong nhà hàng\n",
    "\n",
    "# creat label\n",
    "name_lbl = Label(window, text=\"Name:\")\n",
    "quantity_lbl = Label(window, text=\"Quantity:\")\n",
    "\n",
    "# creat entry\n",
    "\n",
    "name = Entry(window, width=30)\n",
    "quantity = Entry(window, width=30)\n",
    "search = Entry(window)\n",
    "\n",
    "def add_ingredient():\n",
    "    list_ingredient.append(Ingredient(name.get(), int(quantity.get())))\n",
    "    print([item.name for item in list_ingredient])\n",
    "    messagebox.showinfo(\"Ingredient\", name.get() + \" added sucessfully\")\n",
    "\n",
    "def search_ingredient():\n",
    "    search_name = search.get()\n",
    "    exist = False # Giả định item không tồn tại trong list\n",
    "    for item in list_ingredient:\n",
    "        if item.name == search_name: # đã có kết quả tìm kiếm\n",
    "            exist = True # item đang tìm kiếm có tồn tại trong list\n",
    "            messagebox.showinfo(\"ingredient\",f\"quantity of {item.name} is {item.quatity}\")\n",
    "            break\n",
    "    if exist == False:\n",
    "        messagebox.showinfo(\"ingredient\",f\"{search_name} does not exist in list\")\n",
    "    \n",
    "def delete_ingredient():\n",
    "    delete_name = search.get()\n",
    "    exist = False\n",
    "    for i in range (len(list_ingredient)):\n",
    "        if list_ingredient[i].name == delete_name:\n",
    "            exist = True\n",
    "            del list_ingredient[i]\n",
    "            messagebox.showinfo(\"ingredient\",f\"{delete_name} is deleted successfully\")\n",
    "            break\n",
    "    if exist == False: \n",
    "        messagebox.showinfo(\"ingredient\",f\"{delete_name} does not exist in list\")\n",
    "            \n",
    "    \n",
    "#creat button\n",
    "\n",
    "add_btn = Button(window, text=\"Add\", command=add_ingredient)\n",
    "delete_btn = Button(window, text=\"Delete\", command=delete_ingredient)\n",
    "reset_btn = Button(window, text=\"Reset\")\n",
    "search_btn = Button(window, text=\"Search\", command=search_ingredient)\n",
    "\n",
    "name_lbl.place(x=100, y=30)\n",
    "name.place(x=200, y=30)\n",
    "\n",
    "quantity_lbl.place(x=100, y=60)\n",
    "quantity.place(x=200, y=60)\n",
    "\n",
    "add_btn.place(x=100, y=90, width=80)\n",
    "\n",
    "delete_btn.place(x=240, y=90, width=80)\n",
    "\n",
    "reset_btn.place(x=380, y=90, width=80)\n",
    "\n",
    "search.place(x=100, y=140)\n",
    "search_btn.place(x=250, y=135, width=80)\n",
    "\n",
    "window.mainloop()"
   ]
  },
  {
   "cell_type": "code",
   "execution_count": 8,
   "id": "f5106eec",
   "metadata": {},
   "outputs": [
    {
     "name": "stdout",
     "output_type": "stream",
     "text": [
      "ID       Name     Sex      Age      Toan     Ly       Hoa      Diem TB  Hoc Luc \n"
     ]
    }
   ],
   "source": [
    "print(\"{:<8} {:8} {:<8} {:<8} {:<8} {:<8} {:<8} {:<8} {:<8}\"\n",
    "              .format(\"ID\", \"Name\", \"Sex\", \"Age\", \"Toan\", \"Ly\", \"Hoa\", \"Diem TB\", \"Hoc Luc\"))"
   ]
  }
 ],
 "metadata": {
  "kernelspec": {
   "display_name": "Python 3 (ipykernel)",
   "language": "python",
   "name": "python3"
  },
  "language_info": {
   "codemirror_mode": {
    "name": "ipython",
    "version": 3
   },
   "file_extension": ".py",
   "mimetype": "text/x-python",
   "name": "python",
   "nbconvert_exporter": "python",
   "pygments_lexer": "ipython3",
   "version": "3.10.6"
  }
 },
 "nbformat": 4,
 "nbformat_minor": 5
}
