{
 "cells": [
  {
   "cell_type": "code",
   "execution_count": null,
   "id": "272a3a95",
   "metadata": {},
   "outputs": [],
   "source": [
    "'''\n",
    "Khởi động: Viết chương trình in ra tất cả các số chia hết cho cả 5 và 7 trong khoảng từ 1500 đến 2700\n",
    "'''"
   ]
  },
  {
   "cell_type": "code",
   "execution_count": 3,
   "id": "18dbe371",
   "metadata": {},
   "outputs": [
    {
     "name": "stdout",
     "output_type": "stream",
     "text": [
      "1505\n",
      "1540\n",
      "1575\n",
      "1610\n",
      "1645\n",
      "1680\n",
      "1715\n",
      "1750\n",
      "1785\n",
      "1820\n",
      "1855\n",
      "1890\n",
      "1925\n",
      "1960\n",
      "1995\n",
      "2030\n",
      "2065\n",
      "2100\n",
      "2135\n",
      "2170\n",
      "2205\n",
      "2240\n",
      "2275\n",
      "2310\n",
      "2345\n",
      "2380\n",
      "2415\n",
      "2450\n",
      "2485\n",
      "2520\n",
      "2555\n",
      "2590\n",
      "2625\n",
      "2660\n",
      "2695\n"
     ]
    }
   ],
   "source": [
    "n=1500\n",
    "while n<=2700:\n",
    "    if n % 5 == 0 and n % 7 == 0: print(n)\n",
    "    n+=1"
   ]
  },
  {
   "cell_type": "code",
   "execution_count": 3,
   "id": "611a77f0",
   "metadata": {},
   "outputs": [
    {
     "name": "stdout",
     "output_type": "stream",
     "text": [
      "1505\n",
      "1540\n",
      "1575\n",
      "1610\n",
      "1645\n",
      "1680\n",
      "1715\n",
      "1750\n",
      "1785\n",
      "1820\n",
      "1855\n",
      "1890\n",
      "1925\n",
      "1960\n",
      "1995\n",
      "2030\n",
      "2065\n",
      "2100\n",
      "2135\n",
      "2170\n",
      "2205\n",
      "2240\n",
      "2275\n",
      "2310\n",
      "2345\n",
      "2380\n",
      "2415\n",
      "2450\n",
      "2485\n",
      "2520\n",
      "2555\n",
      "2590\n",
      "2625\n",
      "2660\n",
      "2695\n"
     ]
    }
   ],
   "source": [
    "# Cách 2\n",
    "count = 1500\n",
    "while count <= 2700:\n",
    "    if not count % 35:\n",
    "        print(count)\n",
    "    count+=1"
   ]
  },
  {
   "cell_type": "code",
   "execution_count": 6,
   "id": "87f74c6c",
   "metadata": {},
   "outputs": [
    {
     "name": "stdout",
     "output_type": "stream",
     "text": [
      "Nhập chiều cao của tam giác: 4\n",
      "****\n",
      "***\n",
      "**\n",
      "*\n"
     ]
    }
   ],
   "source": [
    "'''\n",
    "Bài 1: Viết chương trình nhập vào chiều cao tam giác vuông và in ra tam giác có hình dạng như sau:\n",
    "*****\n",
    "****\n",
    "***\n",
    "** \n",
    "*\n",
    "'''\n",
    "# Khai báo chiều cao tam giác\n",
    "h = int(input(\"Nhập chiều cao của tam giác: \"))\n",
    "string = \"*\"\n",
    "while h>=1:\n",
    "    print(h*string)\n",
    "    h-=1"
   ]
  },
  {
   "cell_type": "code",
   "execution_count": 9,
   "id": "ea4c14a8",
   "metadata": {},
   "outputs": [
    {
     "name": "stdout",
     "output_type": "stream",
     "text": [
      "Input heigh of the triangle: 4\n",
      "* * * *\n",
      "* * *\n",
      "* *\n",
      "*\n"
     ]
    }
   ],
   "source": [
    "'''\n",
    "Bài 2: Viết chương trình nhập vào chiều cao tam giác vuông và in ra tam giác có hình dạng như sau:\n",
    "* * * * * *\n",
    "* * * * *\n",
    "* * * *\n",
    "* * *\n",
    "* *\n",
    "*\n",
    "'''\n",
    "h = int(input(\"Input heigh of the triangle: \"))\n",
    "while h>=1:\n",
    "    print(\"* \"*(h-1) + \"*\")\n",
    "    h-=1"
   ]
  },
  {
   "cell_type": "code",
   "execution_count": 30,
   "id": "bd17e085",
   "metadata": {
    "scrolled": true
   },
   "outputs": [
    {
     "name": "stdout",
     "output_type": "stream",
     "text": [
      "Input heigh of the triangle: 6\n",
      "* _ * _ * _\n",
      "* _ * _ *\n",
      "* _ * _\n",
      "* _ *\n",
      "* _\n",
      "*\n"
     ]
    }
   ],
   "source": [
    "'''\n",
    "Bài 3: Viết chương trình nhập vào chiều cao tam giác vuông và in ra tam giác có hình dạng như sau:\n",
    "* - * - *\n",
    "* - * -\n",
    "* - *\n",
    "* -\n",
    "*\n",
    "'''\n",
    "h = int(input(\"Input heigh of the triangle: \"))\n",
    "while h>=1:\n",
    "    if h % 2 != 0:\n",
    "        print(\"* _ \" * (h//2) + \"*\")\n",
    "    else:\n",
    "        print((\"* _ \" * (h//2)).rstrip())\n",
    "    h-=1"
   ]
  },
  {
   "cell_type": "code",
   "execution_count": null,
   "id": "105b66bc",
   "metadata": {},
   "outputs": [],
   "source": [
    "'''\n",
    "Bài 4: Viết chương trình nhập vào một số nguyên n và in ra các số từ 1 đến n với các trường hợp ngoại lệ như sau:\n",
    "- Nếu số đó chia hết cho 3 thì in \"py\"\n",
    "- Nếu số đó chia hết cho 7 thì in \"thon\"\n",
    "- Nếu số đó chia hết cho cả 3 và 7 thì in \"python\"\n",
    "\n",
    "Ví dụ: n = 25\n",
    "1\n",
    "2\n",
    "py\n",
    "4\n",
    "5\n",
    "py\n",
    "thon\n",
    "8\n",
    "py\n",
    "10\n",
    "11\n",
    "py\n",
    "13\n",
    "thon\n",
    "py\n",
    "16\n",
    "17\n",
    "py\n",
    "19\n",
    "20\n",
    "python\n",
    "22\n",
    "23\n",
    "py\n",
    "25\n",
    "'''"
   ]
  },
  {
   "cell_type": "code",
   "execution_count": 2,
   "id": "11f9448b",
   "metadata": {},
   "outputs": [
    {
     "name": "stdout",
     "output_type": "stream",
     "text": [
      "input n: 45\n",
      "1\n",
      "2\n",
      "py\n",
      "4\n",
      "5\n",
      "py\n",
      "thon\n",
      "8\n",
      "py\n",
      "10\n",
      "11\n",
      "python\n",
      "13\n",
      "thon\n",
      "py\n",
      "16\n",
      "17\n",
      "py\n",
      "19\n",
      "20\n",
      "thon\n",
      "22\n",
      "23\n",
      "python\n",
      "25\n",
      "26\n",
      "py\n",
      "thon\n",
      "29\n",
      "py\n",
      "31\n",
      "32\n",
      "py\n",
      "34\n",
      "thon\n",
      "python\n",
      "37\n",
      "38\n",
      "py\n",
      "40\n",
      "41\n",
      "thon\n",
      "43\n",
      "44\n",
      "py\n"
     ]
    }
   ],
   "source": [
    "n = int(input(\"input n: \"))\n",
    "k=1\n",
    "while k<=n:\n",
    "    if k % 3 == 0 and k % 7 == 0:\n",
    "        print(\"python\")\n",
    "    elif k % 7 == 0:\n",
    "        print(\"thon\")\n",
    "    elif k % 3 == 0:\n",
    "        print(\"py\")\n",
    "    else:\n",
    "        print(k)\n",
    "    k+=1"
   ]
  },
  {
   "cell_type": "code",
   "execution_count": 4,
   "id": "3689744c",
   "metadata": {},
   "outputs": [
    {
     "name": "stdout",
     "output_type": "stream",
     "text": [
      "Input number: 5\n",
      "5 is prime number\n"
     ]
    }
   ],
   "source": [
    "'''\n",
    "Bài 5: Viết chương trình nhập vào một số và kiểm tra xem số đó có phải là số nguyên tố hay không\n",
    "Note: Số nguyên tố là số chỉ chia hết cho 1 và chính nó\n",
    "'''\n",
    "n = int(input(\"Input number: \"))\n",
    "i = 2\n",
    "check = True\n",
    "while i<n:\n",
    "    if n % i == 0:\n",
    "        print(f\"{n} is not prime number\")\n",
    "        check = false\n",
    "        break\n",
    "    i += 1\n",
    "if check:\n",
    "    print(f\"{n} is prime number\")"
   ]
  },
  {
   "cell_type": "code",
   "execution_count": 1,
   "id": "f7b6f7a2",
   "metadata": {},
   "outputs": [
    {
     "name": "stdout",
     "output_type": "stream",
     "text": [
      "input number: 4\n",
      "Không phải số nguyên tố\n"
     ]
    }
   ],
   "source": [
    "num = int(input(\"input number: \"))\n",
    "n=num-1\n",
    "if num=2: print(f\"{num} là số nguyên tố\")\n",
    "elif num>2:  \n",
    "    while n>1:\n",
    "        if num % n == 0:\n",
    "            print(\"Không phải số nguyên tố\")\n",
    "            break\n",
    "        n-=1\n",
    "    else: print(\"Là số nguyên tố\")\n",
    "else: print(\"Nhập lại dữ liệu\")"
   ]
  },
  {
   "cell_type": "code",
   "execution_count": 15,
   "id": "e6c76842",
   "metadata": {},
   "outputs": [
    {
     "name": "stdout",
     "output_type": "stream",
     "text": [
      "1 - búa, 2 - kéo, 3 - bao1\n",
      "may tinh chon: 3\n",
      "nguoi choi thua\n",
      "\n",
      "1 - búa, 2 - kéo, 3 - bao1\n",
      "may tinh chon: 3\n",
      "nguoi choi thua\n",
      "\n",
      "1 - búa, 2 - kéo, 3 - bao1\n",
      "may tinh chon: 1\n",
      "nguoi choi thua\n",
      "\n",
      "1 - búa, 2 - kéo, 3 - bao1\n",
      "may tinh chon: 1\n",
      "nguoi choi thua\n",
      "\n",
      "1 - búa, 2 - kéo, 3 - bao1\n",
      "may tinh chon: 3\n",
      "nguoi choi thua\n",
      "\n",
      "1 - búa, 2 - kéo, 3 - bao2\n",
      "may tinh chon: 2\n",
      "nguoi choi thua\n",
      "\n",
      "1 - búa, 2 - kéo, 3 - bao2\n",
      "may tinh chon: 1\n",
      "nguoi choi thua\n",
      "\n",
      "1 - búa, 2 - kéo, 3 - bao2\n",
      "may tinh chon: 3\n",
      "Người chơi thắng\n"
     ]
    }
   ],
   "source": [
    "''''\n",
    "Bài 6: Viết chương trình mô phỏng trò chơi kéo búa bao theo luật chơi như sau:\n",
    "Quy ước: 1 - búa, 2 - kéo, 3 - bao\n",
    "Khi trò chơi bắt đầu, yêu cầu người chơi nhập 1 số từ bàn phím đại diện cho kéo, búa, bao\n",
    "Chương trình tự random ra một lựa chọn từ 1 đến 3.\n",
    "Nếu người chơi thua thì tiếp tục chơi cho đến khi thắng thì kết thúc chương trình.\n",
    "Ví dụ:\n",
    "\n",
    "Mời lựa chọn(1 - búa, 2 - kéo, 3 - bao): 1\n",
    "Máy tính chọn: 3\n",
    "Người chơi thua.\n",
    "\n",
    "Mời lựa chọn(1 - búa, 2 - kéo, 3 - bao): 2\n",
    "Máy tính chọn: 1\n",
    "Người chơi thua.\n",
    "\n",
    "Mời lựa chọn(1 - búa, 2 - kéo, 3 - bao): 1\n",
    "Máy tính chọn: 2\n",
    "Người chơi thắng.\n",
    "'''\n",
    "\n",
    "from random import randint\n",
    "result = False\n",
    "while not result:\n",
    "    user_choise = int(input(\"1 - búa, 2 - kéo, 3 - bao\"))\n",
    "    computer_choise = randint(1,3)\n",
    "    print(f\"may tinh chon: {computer_choise}\")\n",
    "    if user_choise !=3 and user_choise +1 == computer_choise:\n",
    "        print(\"Người chơi thắng\")\n",
    "        result = True\n",
    "    elif user_choise == 3 and computer == 1:\n",
    "        print(\"Nguoi choi thang\")\n",
    "        result = True\n",
    "    else:\n",
    "        print(\"nguoi choi thua\")\n",
    "        print()\n",
    "    "
   ]
  }
 ],
 "metadata": {
  "kernelspec": {
   "display_name": "Python 3 (ipykernel)",
   "language": "python",
   "name": "python3"
  },
  "language_info": {
   "codemirror_mode": {
    "name": "ipython",
    "version": 3
   },
   "file_extension": ".py",
   "mimetype": "text/x-python",
   "name": "python",
   "nbconvert_exporter": "python",
   "pygments_lexer": "ipython3",
   "version": "3.10.6"
  }
 },
 "nbformat": 4,
 "nbformat_minor": 5
}
