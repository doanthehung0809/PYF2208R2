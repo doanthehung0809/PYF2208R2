{
 "cells": [
  {
   "cell_type": "code",
   "execution_count": 4,
   "id": "a4791955",
   "metadata": {
    "scrolled": true
   },
   "outputs": [
    {
     "name": "stdout",
     "output_type": "stream",
     "text": [
      "Input first and end number: 34 45\n",
      "35 is Buzz\n",
      "36 is Fizz\n",
      "39 is Fizz\n",
      "40 is Buzz\n",
      "42 is Fizz\n"
     ]
    }
   ],
   "source": [
    "number = input(\"Input first and end number: \")\n",
    "for i in range(int(number.split()[0]), int(number.split()[1])+1):\n",
    "    if not i%3 and not i%5: print(f\"{i} is FizzBuzz\")\n",
    "    elif not i%3: print(f\"{i} is Fizz\")\n",
    "    elif not i%5: print(f\"{i} is Buzz\")"
   ]
  }
 ],
 "metadata": {
  "kernelspec": {
   "display_name": "Python 3 (ipykernel)",
   "language": "python",
   "name": "python3"
  },
  "language_info": {
   "codemirror_mode": {
    "name": "ipython",
    "version": 3
   },
   "file_extension": ".py",
   "mimetype": "text/x-python",
   "name": "python",
   "nbconvert_exporter": "python",
   "pygments_lexer": "ipython3",
   "version": "3.10.6"
  }
 },
 "nbformat": 4,
 "nbformat_minor": 5
}
