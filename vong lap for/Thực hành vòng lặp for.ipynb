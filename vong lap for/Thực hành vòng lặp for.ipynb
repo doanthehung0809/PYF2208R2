{
 "cells": [
  {
   "cell_type": "code",
   "execution_count": 3,
   "id": "7c279d99",
   "metadata": {},
   "outputs": [
    {
     "name": "stdout",
     "output_type": "stream",
     "text": [
      "1\n",
      "2\n",
      "3\n",
      "4\n",
      "5\n",
      "6\n",
      "7\n",
      "8\n",
      "9\n",
      "10\n"
     ]
    }
   ],
   "source": [
    "'''\n",
    "Warm-up: In ra 10 số tự nhiên đầu tiên từ 1 đến 10\n",
    "'''\n",
    "for i in range (1,11):\n",
    "    print(i)"
   ]
  },
  {
   "cell_type": "code",
   "execution_count": 6,
   "id": "66918d7e",
   "metadata": {},
   "outputs": [
    {
     "name": "stdout",
     "output_type": "stream",
     "text": [
      "Input num: 6\n",
      "21\n"
     ]
    }
   ],
   "source": [
    "'''\n",
    "Bài 1: Nhập vào số nguyên dương n. Tính tổng các số tự nhiên từ 1 đến n.\n",
    "'''\n",
    "num = int(input(\"Input num: \"))\n",
    "S=0\n",
    "for i in range(1,num+1):\n",
    "    S += i\n",
    "print(S)"
   ]
  },
  {
   "cell_type": "code",
   "execution_count": 9,
   "id": "be255bdc",
   "metadata": {},
   "outputs": [
    {
     "name": "stdout",
     "output_type": "stream",
     "text": [
      "Input n: 8\n",
      "Bảng cửu chương  8\n",
      "8 * 1 = 8\n",
      "8 * 2 = 16\n",
      "8 * 3 = 24\n",
      "8 * 4 = 32\n",
      "8 * 5 = 40\n",
      "8 * 6 = 48\n",
      "8 * 7 = 56\n",
      "8 * 8 = 64\n",
      "8 * 9 = 72\n",
      "8 * 10 = 80\n"
     ]
    }
   ],
   "source": [
    "'''\n",
    "Bài 2: Nhập vào số nguyên dương n. In ra bảng cửu chương từ 1 đến 10 của n.\n",
    "'''\n",
    "n = int(input(\"Input n: \"))\n",
    "print(\"Bảng cửu chương \",n)\n",
    "for i in range(1,11):\n",
    "    print(f\"{n} * {i} = {n*i}\")"
   ]
  },
  {
   "cell_type": "code",
   "execution_count": 16,
   "id": "681c029c",
   "metadata": {},
   "outputs": [
    {
     "name": "stdout",
     "output_type": "stream",
     "text": [
      "Input n: 100000\n",
      "100000 có 6 chữ số\n"
     ]
    }
   ],
   "source": [
    "'''\n",
    "Bài 3: Nhập vào số nguyên dương n. Đếm xem n có bao nhiêu chữ số.\n",
    "'''\n",
    "n = str(input(\"Input n: \"))\n",
    "S = 0\n",
    "for i in n:\n",
    "    S+=1\n",
    "print(f\"{n} có {S} chữ số\")"
   ]
  },
  {
   "cell_type": "code",
   "execution_count": 5,
   "id": "86b94921",
   "metadata": {},
   "outputs": [
    {
     "name": "stdout",
     "output_type": "stream",
     "text": [
      "Input n: 20\n",
      "2\n"
     ]
    }
   ],
   "source": [
    "# Cách 2\n",
    "n = int(input(\"Input n: \"))\n",
    "total = 0\n",
    "while n > 0:\n",
    "    total += 1\n",
    "    n //= 10\n",
    "print(total)"
   ]
  },
  {
   "cell_type": "code",
   "execution_count": 19,
   "id": "7eb58122",
   "metadata": {},
   "outputs": [
    {
     "name": "stdout",
     "output_type": "stream",
     "text": [
      "Input n: 321\n",
      "Tổng các chữ số của 321 bằng 6\n"
     ]
    }
   ],
   "source": [
    "'''\n",
    "Bài 4: Nhập vào số nguyên dương n. Tính tổng các chữ số của n.\n",
    "'''\n",
    "n = str(input(\"Input n: \"))\n",
    "S = 0\n",
    "for i in n:\n",
    "    S+=int(i)\n",
    "print(f\"Tổng các chữ số của {n} bằng {S}\")"
   ]
  },
  {
   "cell_type": "code",
   "execution_count": 7,
   "id": "30428aff",
   "metadata": {},
   "outputs": [
    {
     "name": "stdout",
     "output_type": "stream",
     "text": [
      "input n 123\n",
      "6\n"
     ]
    }
   ],
   "source": [
    "# Cách 2\n",
    "n = int(input(\"input n \"))\n",
    "total = 0\n",
    "while n > 0:\n",
    "    total += n % 10\n",
    "    n //= 10\n",
    "print(total)"
   ]
  },
  {
   "cell_type": "code",
   "execution_count": 4,
   "id": "cf0da697",
   "metadata": {},
   "outputs": [
    {
     "name": "stdout",
     "output_type": "stream",
     "text": [
      "Input n: 10\n",
      "1\n",
      "1 2\n",
      "1 2 3\n",
      "1 2 3 4\n",
      "1 2 3 4 5\n",
      "1 2 3 4 5 6\n",
      "1 2 3 4 5 6 7\n",
      "1 2 3 4 5 6 7 8\n",
      "1 2 3 4 5 6 7 8 9\n",
      "1 2 3 4 5 6 7 8 9 10\n"
     ]
    }
   ],
   "source": [
    "'''\n",
    "Bài 5: Nhập vào số nguyên dương n. Sử dụng cấu trúc vòng lặp lồng nhau(nested for loop) để in ra tam giác có dạng như sau:\n",
    "1\n",
    "1 2\n",
    "1 2 3\n",
    "1 2 3 4\n",
    "1 2 3 4 5\n",
    "'''\n",
    "n = int(input(\"Input n: \"))\n",
    "for i in range(1,n+1):\n",
    "    num = 1\n",
    "    for j in range(1,i):\n",
    "        print(num,end=\" \")\n",
    "        num+=1\n",
    "    print(num)"
   ]
  },
  {
   "cell_type": "code",
   "execution_count": 51,
   "id": "1ac5d880",
   "metadata": {},
   "outputs": [
    {
     "name": "stdout",
     "output_type": "stream",
     "text": [
      "Input n: 5\n",
      "5 4 3 2 1\n",
      "4 3 2 1\n",
      "3 2 1\n",
      "2 1\n",
      "1\n"
     ]
    }
   ],
   "source": [
    "'''\n",
    "Bài 6: Nhập vào số nguyên dương n. Sử dụng cấu trúc vòng lặp lồng nhau(nested for loop) để in ra tam giác có dạng như sau:\n",
    "5 4 3 2 1\n",
    "4 3 2 1\n",
    "3 2 1\n",
    "2 1\n",
    "1\n",
    "'''\n",
    "n = int(input(\"Input n: \"))\n",
    "for i in range(n,0,-1):\n",
    "    num = i\n",
    "    for j in range(i,1,-1):\n",
    "        print(num,end=\" \")\n",
    "        num-=1\n",
    "    print(num)"
   ]
  },
  {
   "cell_type": "code",
   "execution_count": 8,
   "id": "5a16aa66",
   "metadata": {},
   "outputs": [
    {
     "name": "stdout",
     "output_type": "stream",
     "text": [
      "Input n: 6\n",
      "720\n"
     ]
    }
   ],
   "source": [
    "'''\n",
    "Bài 7: Nhập vào một số nguyên dương n. Tính giai thừa của n.\n",
    "Note: Giai thừa của n được tính bằng công thức: n! = n*(n - 1)*(n - 2)*...*1\n",
    "Ví dụ: 5! = 5 × 4 × 3 × 2 × 1 = 120\n",
    "'''\n",
    "n = int(input(\"Input n: \"))\n",
    "S=1\n",
    "for i in range(1,n+1):\n",
    "    S=S*i\n",
    "print(S)"
   ]
  },
  {
   "cell_type": "code",
   "execution_count": 2,
   "id": "8dfa4890",
   "metadata": {},
   "outputs": [
    {
     "name": "stdout",
     "output_type": "stream",
     "text": [
      "Input n: 12\n",
      "21"
     ]
    }
   ],
   "source": [
    "'''\n",
    "Bài 8: Viết chương trình nhập vào một số nguyên dương n và in ra số đảo ngược của n.\n",
    "Ví dụ:\n",
    "Input: 76542\n",
    "Output: 24567\n",
    "'''\n",
    "n = int(input(\"Input n: \"))\n",
    "while n > 0:\n",
    "    print(n%10,end=\"\")\n",
    "    n //= 10"
   ]
  },
  {
   "cell_type": "code",
   "execution_count": 14,
   "id": "326700db",
   "metadata": {},
   "outputs": [
    {
     "name": "stdout",
     "output_type": "stream",
     "text": [
      "input n: 8\n",
      "1\n",
      "22\n",
      "333\n",
      "4444\n",
      "55555\n",
      "666666\n",
      "7777777\n",
      "88888888\n"
     ]
    }
   ],
   "source": [
    "'''\n",
    "Bài 9: Viết phần mềm nhập vào số n (từ 1 đến 9) và in ra tam giác có dạng như sau:\n",
    "1\n",
    "22\n",
    "333\n",
    "4444\n",
    "55555\n",
    "666666\n",
    "7777777\n",
    "88888888\n",
    "999999999\n",
    "'''\n",
    "n = int(input(\"input n: \"))\n",
    "for i in range(1,n+1):\n",
    "    print(str(i)*i)"
   ]
  },
  {
   "cell_type": "code",
   "execution_count": 1,
   "id": "72a87d61",
   "metadata": {},
   "outputs": [
    {
     "name": "stdout",
     "output_type": "stream",
     "text": [
      "input stringhello python minh la Hung day\n",
      "hello 5\n",
      "python 6\n",
      "minh 4\n",
      "la 2\n",
      "Hung 4\n",
      "day 3\n"
     ]
    }
   ],
   "source": [
    "'''\n",
    "Bài 10: Nhập vào một câu nói (mỗi từ cách nhau một khoảng trắng, không có dấu phẩy, chấm), hãy tách từng từ trong chuỗi ra rồi in lên màn hình. Mỗi từ in kèm với độ dài cửa từ đó\n",
    "\n",
    "Ví dụ:\n",
    "\n",
    "Nhập: Xin chào\n",
    "\n",
    "In:\n",
    "\n",
    "Xin 3\n",
    "\n",
    "Chào 4\n",
    "'''\n",
    "string = input(\"input string\")\n",
    "list_word = string.split( )\n",
    "for word in list_word:\n",
    "    print(word,len(word))"
   ]
  },
  {
   "cell_type": "code",
   "execution_count": 9,
   "id": "48421f26",
   "metadata": {},
   "outputs": [
    {
     "name": "stdout",
     "output_type": "stream",
     "text": [
      "input string 23,45\n",
      "68\n"
     ]
    }
   ],
   "source": [
    "'''\n",
    "Bài 11: Nhập vào một chuỗi có 2 số nguyên, mỗi số cách nhau một dấu phẩy, hãy tính tổng của hai số đó\n",
    "\n",
    "Ví dụ:\n",
    "\n",
    "Nhập: 2,3 In: 5\n",
    "'''\n",
    "string = input(\"input string \")\n",
    "list_num = string.split(\",\")\n",
    "S = 0\n",
    "for num in list_num:\n",
    "    S += int(num)\n",
    "print(S)"
   ]
  },
  {
   "cell_type": "code",
   "execution_count": 3,
   "id": "d878c81a",
   "metadata": {},
   "outputs": [
    {
     "name": "stdout",
     "output_type": "stream",
     "text": [
      "Input chuoi: 1234567845\n",
      "5\n"
     ]
    }
   ],
   "source": [
    "'''\n",
    "Bài 12: Nhập vào một chuỗi, hãy cho biết trong chuỗi đó có bao nhiêu chữ số chẵn.\n",
    "'''\n",
    "n = int(input(\"Input chuoi: \"))\n",
    "even_number = 0\n",
    "while n > 0:\n",
    "    if (n % 10) % 2 == 0:\n",
    "        even_number += 1\n",
    "    n //= 10\n",
    "print(even_number)"
   ]
  },
  {
   "cell_type": "code",
   "execution_count": 40,
   "id": "86ef2a9a",
   "metadata": {},
   "outputs": [
    {
     "name": "stdout",
     "output_type": "stream",
     "text": [
      "Nhập tổng số tiền: 200000\n",
      "2081\n"
     ]
    }
   ],
   "source": [
    "'''\n",
    "Bài 13: Cần có tổng 200.000đ từ 3 loại giấy bạc 1000đ, 2000đ, và 5000đ. Lập \n",
    "chương tình để tìm tất cả các phương án có thể.\n",
    "'''\n",
    "n = int(input(\"Nhập tổng số tiền: \"))\n",
    "count = 0\n",
    "for i in range (0,n//1000+1):\n",
    "    for j in range (0,n//2000+1):\n",
    "        for k in range (0,n//5000+1):\n",
    "            if i * 1000 + j * 2000 + k * 5000 == n:\n",
    "                count += 1\n",
    "print(count)"
   ]
  },
  {
   "cell_type": "code",
   "execution_count": 45,
   "id": "1f75570f",
   "metadata": {
    "scrolled": true
   },
   "outputs": [
    {
     "name": "stdout",
     "output_type": "stream",
     "text": [
      "input string: (\n",
      "False\n"
     ]
    }
   ],
   "source": [
    "'''\n",
    "Bài 14: Nhập vào một chuỗi s chỉ chứa các ký tự '(', ')', '{', '}', '[' và ']', \n",
    "xác định xem chuỗi s có hợp lệ hay không.\n",
    "\n",
    "Chuỗi đầu vào hợp lệ nếu:\n",
    "\n",
    "- Các dấu ngoặc mở phải được đóng bằng cùng một loại dấu ngoặc.\n",
    "- Dấu ngoặc mở phải được đóng theo đúng thứ tự.\n",
    "- Mọi dấu ngoặc đóng đều có một dấu ngoặc mở tương ứng cùng loại.\n",
    "\n",
    "Ví dụ 1:\n",
    "Input: s = \"()\"\n",
    "Output: True\n",
    "\n",
    "Ví dụ 2:\n",
    "Input: s = \"() [] {}\"\n",
    "Output: True\n",
    "\n",
    "Ví dụ 3:\n",
    "Input: s = \"(]\"\n",
    "Output: False\n",
    "'''\n",
    "string = input(\"input string: \")\n",
    "result = \"True\"\n",
    "if len(string) % 2 != 0:\n",
    "    print(\"False\")\n",
    "else:\n",
    "    for i in range(0,len(string),2):\n",
    "        if string[i] == \"(\" and string[i+1] == \")\":\n",
    "            result = \"True\"\n",
    "        elif string[i] == \"{\" and string[i+1] == \"}\":\n",
    "            result = \"True\"\n",
    "        elif string[i] == \"[\" and string[i+1] == \"]\":\n",
    "            result = \"True\"\n",
    "        else:\n",
    "            result = \"False\"\n",
    "    print(result)"
   ]
  },
  {
   "cell_type": "code",
   "execution_count": 2,
   "id": "1cc7ea23",
   "metadata": {},
   "outputs": [
    {
     "name": "stdout",
     "output_type": "stream",
     "text": [
      "input chuỗi số La Mã với các ký tự I, V, X, L, C, D, M: MIII\n",
      "1003\n"
     ]
    }
   ],
   "source": [
    "'''\n",
    "Bài 15: Roman to Integer\n",
    "Chữ số La Mã được thể hiện bằng bảy ký hiệu khác nhau: I, V, X, L, C, D và M.\n",
    "\n",
    "Symbol       Value\n",
    "I             1\n",
    "V             5\n",
    "X             10\n",
    "L             50\n",
    "C             100\n",
    "D             500\n",
    "M             1000\n",
    "\n",
    "Ví dụ: 2 được viết là II bằng số La Mã, chỉ là hai cái được cộng lại với nhau. \n",
    "12 được viết là XII, đơn giản là X + II. Con số 27 được viết là XXVII, là XX + V + II.\n",
    "\n",
    "Chữ số La mã thường được viết từ lớn nhất đến nhỏ nhất từ trái sang phải. \n",
    "Tuy nhiên, chữ số cho bốn không phải là IIII. Thay vào đó, số bốn được viết là IV. \n",
    "Bởi vì cái đứng trước năm, chúng ta trừ nó ra làm bốn. Nguyên tắc tương tự cũng áp dụng cho số chín, \n",
    "được viết là IX. Có sáu trường hợp phép trừ được sử dụng:\n",
    "\n",
    "I có thể được đặt trước V (5) và X (10) để tạo thành 4 và 9.\n",
    "X có thể được đặt trước L (50) và C (100) để tạo ra 40 và 90.\n",
    "C có thể được đặt trước D (500) và M (1000) để tạo thành 400 và 900.\n",
    "Nhập vào một chuỗi đại diện cho một số La Mã, hãy chuyển nó thành một số nguyên.\n",
    "\n",
    "Ví dụ 1:\n",
    "Input: s = \"III\"\n",
    "Output: 3\n",
    "Explanation: III = 3.\n",
    "\n",
    "Ví dụ 2:\n",
    "Input: s = \"LVIII\"\n",
    "Output: 58\n",
    "Explanation: L = 50, V= 5, III = 3.\n",
    "\n",
    "Ví dụ 3:\n",
    "Input: s = \"MCMXCIV\"\n",
    "Output: 1994\n",
    "Explanation: M = 1000, CM = 900, XC = 90 and IV = 4.\n",
    "'''\n",
    "string = input(\"input chuỗi số La Mã với các ký tự I, V, X, L, C, D, M: \")\n",
    "S = 0\n",
    "for i in range(0,len(string)):\n",
    "    if string[i] == \"I\":\n",
    "        S += 1\n",
    "    elif string[i] == \"V\":\n",
    "        S += 5\n",
    "    elif string[i] == \"X\":\n",
    "        S += 10\n",
    "    elif string[i] == \"L\":\n",
    "        S += 50\n",
    "    elif string[i] == \"C\":\n",
    "        S += 100\n",
    "    elif string[i] == \"D\":\n",
    "        S += 500\n",
    "    elif string[i] == \"M\":\n",
    "        S += 1000\n",
    "print(S)"
   ]
  },
  {
   "cell_type": "code",
   "execution_count": 24,
   "id": "bfe2e17f",
   "metadata": {},
   "outputs": [
    {
     "name": "stdout",
     "output_type": "stream",
     "text": [
      "Nhập số khoang: 4\n",
      "__________________________  __________________________  __________________________  _______________________>__\n",
      "|]||[]_[]_[]|||[]_[]_[]||]| |]||[]_[]_[]|||[]_[]_[]||]| |]||[]_[]_[]|||[]_[]_[]||]| |]||[]_[]_[]|||[]_[]_[]||]| \n",
      "\\==o-o======o-o======o-o==/_\\==o-o======o-o======o-o==/_\\==o-o======o-o======o-o==/_\\==o-o======o-o======o-o==/"
     ]
    }
   ],
   "source": [
    "'''\n",
    "Bonus: Vẽ xe lửa\n",
    "What is the size of your train? 1\n",
    " ______________________>__\n",
    "|]||[]_[]_[]|||[]_[]_[]||[|\n",
    "\\==o-o======o-o======o-o==/\n",
    "\n",
    "What is the size of your train? 2\n",
    " _________________________   ______________________>__\n",
    "|]||[]_[]_[]|||[]_[]_[]||[| |]||[]_[]_[]|||[]_[]_[]||[|\n",
    "\\==o-o======o-o======o-o==/_\\==o-o======o-o======o-o==/\n",
    "'''\n",
    "gach_duoi = \"_\"\n",
    "net_thang = \"|\"\n",
    "moc_nguoc = \"]\"\n",
    "moc_xuoi = \"[\"\n",
    "banh_xe = \"o\"\n",
    "net_bang = \"=\"\n",
    "net_ngang = \"/\"\n",
    "gach_tren = \"-\"\n",
    "\n",
    "n = int(input(\"Nhập số khoang: \"))\n",
    "#phan tren\n",
    "for i in range(1,n+1):\n",
    "    if i == n:\n",
    "        print(gach_duoi*23,end=\"\")\n",
    "        print(\">\",end=\"\")\n",
    "        print(gach_duoi*2)\n",
    "    elif i != n:\n",
    "        print(gach_duoi*24,end=\"\")\n",
    "        print(gach_duoi*2,end=\"\")\n",
    "        print(\"  \",end=\"\")\n",
    "# Phan giua\n",
    "for i in range(1,n+1):\n",
    "    print(net_thang,end=\"\")\n",
    "    print(moc_nguoc,end=\"\")\n",
    "    print(net_thang*2,end=\"\")\n",
    "    print(moc_xuoi,end=\"\")\n",
    "    print(moc_nguoc,end=\"\")\n",
    "    print(gach_duoi,end=\"\")\n",
    "    print(moc_xuoi,end=\"\")\n",
    "    print(moc_nguoc,end=\"\")\n",
    "    print(gach_duoi,end=\"\")\n",
    "    print(moc_xuoi,end=\"\")\n",
    "    print(moc_nguoc,end=\"\")\n",
    "    print(net_thang*3,end=\"\")\n",
    "    print(moc_xuoi,end=\"\")\n",
    "    print(moc_nguoc,end=\"\")\n",
    "    print(gach_duoi,end=\"\")\n",
    "    print(moc_xuoi,end=\"\")\n",
    "    print(moc_nguoc,end=\"\")\n",
    "    print(gach_duoi,end=\"\")\n",
    "    print(moc_xuoi,end=\"\")\n",
    "    print(moc_nguoc,end=\"\")\n",
    "    print(net_thang*2,end=\"\")\n",
    "    print(moc_nguoc,end=\"\")\n",
    "    print(net_thang,end=\"\")\n",
    "    if n>1:\n",
    "        print(\" \",end=\"\")\n",
    "print()\n",
    "# Phan duoi\n",
    "for i in range(1,n+1):\n",
    "    print(\"\\==\",end=\"\")\n",
    "    print(banh_xe,end=\"\")\n",
    "    print(gach_tren,end=\"\")\n",
    "    print(banh_xe,end=\"\")\n",
    "    print(net_bang*6,end=\"\")\n",
    "    print(banh_xe,end=\"\")\n",
    "    print(gach_tren,end=\"\")\n",
    "    print(banh_xe,end=\"\")\n",
    "    print(net_bang*6,end=\"\")\n",
    "    print(banh_xe,end=\"\")\n",
    "    print(gach_tren,end=\"\")\n",
    "    print(banh_xe,end=\"\")\n",
    "    print(\"==/\",end=\"\")\n",
    "    if i != n:\n",
    "        print(\"_\",end=\"\")"
   ]
  }
 ],
 "metadata": {
  "kernelspec": {
   "display_name": "Python 3 (ipykernel)",
   "language": "python",
   "name": "python3"
  },
  "language_info": {
   "codemirror_mode": {
    "name": "ipython",
    "version": 3
   },
   "file_extension": ".py",
   "mimetype": "text/x-python",
   "name": "python",
   "nbconvert_exporter": "python",
   "pygments_lexer": "ipython3",
   "version": "3.10.6"
  }
 },
 "nbformat": 4,
 "nbformat_minor": 5
}
