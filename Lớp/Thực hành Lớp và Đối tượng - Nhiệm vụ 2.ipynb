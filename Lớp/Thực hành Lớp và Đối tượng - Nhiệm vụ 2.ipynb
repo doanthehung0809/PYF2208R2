{
 "cells": [
  {
   "cell_type": "code",
   "execution_count": null,
   "id": "1b7705b3",
   "metadata": {},
   "outputs": [],
   "source": [
    "\"\"\"\n",
    "Viết class NhanVien gồm các thuộc tính:\n",
    "+ Tên\n",
    "+ Tuổi\n",
    "+ Địa chỉ\n",
    "+ Tiền lương\n",
    "+ Tổng số giờ làm\n",
    "\n",
    "Và các phương thức:\n",
    "- Phương thức tạo\n",
    "- input_info() : Nhập các thông tin cho nhân viên từ bàn phím\n",
    "- print_info() : In ra tất cả các thông tin của nhân viên\n",
    "- tinh_thuong(): Tính toán và trả về số tiền thưởng của nhân viên theo công thức sau:\n",
    "Nếu tổng số giờ làm của nhân viên >=200 thì thưởng = lương * 20%\n",
    "Nếu tổng số giờ làm của nhân viên <200 và >=100 thì thưởng = lương * 10%\n",
    "Nếu tổng số giờ làm của nhân viên <100 thì thưởng = 0\n",
    "\"\"\""
   ]
  },
  {
   "cell_type": "code",
   "execution_count": 9,
   "id": "3cf0f41d",
   "metadata": {},
   "outputs": [
    {
     "name": "stdout",
     "output_type": "stream",
     "text": [
      "=================================\n",
      "nhap ten nhan vien: a\n",
      "nhap tuoi: 20\n",
      "nhap dia chi: ha noi\n",
      "nhap tien luong: 20000\n",
      "nhap tong so gio lam: 200\n",
      "=================================\n",
      "Nhan vien: a\n",
      "Tuoi: 20\n",
      "dia chi: ha noi\n",
      "tien luong: 20000.0\n",
      "tong so gio lam: 200.0\n",
      "thuong: <bound method NhanVien.thuong of <__main__.NhanVien object at 0x000002402E8E3550>>\n"
     ]
    },
    {
     "data": {
      "text/plain": [
       "4000.0"
      ]
     },
     "execution_count": 9,
     "metadata": {},
     "output_type": "execute_result"
    }
   ],
   "source": [
    "class NhanVien():\n",
    "    def __init__(self):\n",
    "        self.ten = \"\"\n",
    "        self.tuoi = 18\n",
    "        self.dia_chi= \"\"\n",
    "        self.tien_luong = 0\n",
    "        self.tong_so_gio_lam = 0\n",
    "    def input_info(self):\n",
    "        print(\"=================================\")\n",
    "        self.ten = input('nhap ten nhan vien: ')\n",
    "        self.tuoi = int(input('nhap tuoi: '))\n",
    "        self.dia_chi = input('nhap dia chi: ')\n",
    "        self.tien_luong = float(input('nhap tien luong: '))\n",
    "        self.tong_so_gio_lam = float(input('nhap tong so gio lam: '))\n",
    "        print(\"=================================\")\n",
    "    def thuong(self):\n",
    "        tien_thuong = 0\n",
    "        if self.tong_so_gio_lam >= 200:\n",
    "            tien_thuong = self.tien_luong * 0.2\n",
    "        elif self.tong_so_gio_lam >= 100:\n",
    "            tien_thuong = self.tien_luong * 0.1\n",
    "        return float(tien_thuong)\n",
    "    def print_info(self):\n",
    "        print(f\"Nhan vien: {self.ten}\")\n",
    "        print(f\"Tuoi: {self.tuoi}\")\n",
    "        print(f\"dia chi: {self.dia_chi}\")\n",
    "        print(f\"tien luong: {self.tien_luong}\")\n",
    "        print(f\"tong so gio lam: {self.tong_so_gio_lam}\")\n",
    "nv_a = NhanVien()\n",
    "nv_a.input_info()\n",
    "nv_a.print_info()\n",
    "nv_a.thuong()"
   ]
  }
 ],
 "metadata": {
  "kernelspec": {
   "display_name": "Python 3 (ipykernel)",
   "language": "python",
   "name": "python3"
  },
  "language_info": {
   "codemirror_mode": {
    "name": "ipython",
    "version": 3
   },
   "file_extension": ".py",
   "mimetype": "text/x-python",
   "name": "python",
   "nbconvert_exporter": "python",
   "pygments_lexer": "ipython3",
   "version": "3.10.6"
  }
 },
 "nbformat": 4,
 "nbformat_minor": 5
}
