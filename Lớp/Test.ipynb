{
 "cells": [
  {
   "cell_type": "code",
   "execution_count": 8,
   "id": "5a9b89d6",
   "metadata": {},
   "outputs": [
    {
     "name": "stdout",
     "output_type": "stream",
     "text": [
      "Nhap khoan chi: thit\n",
      "So tien: 20\n",
      "Ngay chi: 4\n",
      "Ban có muốn nhập dữ liệu tiếp không Y/N: Y\n",
      "Nhap khoan chi: ca\n",
      "So tien: 30\n",
      "Ngay chi: 5\n",
      "Ban có muốn nhập dữ liệu tiếp không Y/N: N\n",
      "[<__main__.chi_tieu object at 0x0000025EB6547CA0>, <__main__.chi_tieu object at 0x0000025EB53C85E0>]\n"
     ]
    }
   ],
   "source": [
    "class chi_tieu:\n",
    "    khoan_chi = ''\n",
    "    so_tien = ''\n",
    "    ngay = ''\n",
    "    def __init__(self, khoan_chi, so_tien, ngay):\n",
    "        self.khoan_chi = khoan_chi\n",
    "        self.so_tien = so_tien\n",
    "        self.ngay = ngay\n",
    "\n",
    "check = 'Y'\n",
    "list = []\n",
    "while check == 'Y':\n",
    "    khoan_chi = input('Nhap khoan chi: ')\n",
    "    so_tien = input('So tien: ')\n",
    "    ngay = int(input('Ngay chi: '))\n",
    "    sv1 = chi_tieu(khoan_chi, so_tien, ngay)\n",
    "    list.append(sv1)\n",
    "    check = input('Ban có muốn nhập dữ liệu tiếp không Y/N: ')\n",
    "print(list)"
   ]
  },
  {
   "cell_type": "code",
   "execution_count": 11,
   "id": "f2844cfe",
   "metadata": {},
   "outputs": [
    {
     "name": "stdout",
     "output_type": "stream",
     "text": [
      "['thit', 'ca', 'trung', 'sua', 'lac']\n"
     ]
    }
   ],
   "source": [
    "a = [\"thit\", \"ca\", \"trung\", \"sua\"]\n",
    "a.append(\"lac\")\n",
    "print(a)"
   ]
  }
 ],
 "metadata": {
  "kernelspec": {
   "display_name": "Python 3 (ipykernel)",
   "language": "python",
   "name": "python3"
  },
  "language_info": {
   "codemirror_mode": {
    "name": "ipython",
    "version": 3
   },
   "file_extension": ".py",
   "mimetype": "text/x-python",
   "name": "python",
   "nbconvert_exporter": "python",
   "pygments_lexer": "ipython3",
   "version": "3.10.6"
  }
 },
 "nbformat": 4,
 "nbformat_minor": 5
}
