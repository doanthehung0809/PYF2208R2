{
 "cells": [
  {
   "cell_type": "code",
   "execution_count": 5,
   "id": "b4a05815",
   "metadata": {},
   "outputs": [
    {
     "name": "stdout",
     "output_type": "stream",
     "text": [
      "Enter temperature in Centigrade: 100\n",
      " Temperature in Fahrenheit is:  212.0\n",
      "Temperature in Fahrenheit is: 212.0\n"
     ]
    }
   ],
   "source": [
    "c=input('Enter temperature in Centigrade: ')\n",
    "f = (9*(int(c))/5)+32\n",
    "print(\" Temperature in Fahrenheit is: \", f)\n",
    "print(f'Temperature in Fahrenheit is: {f}')"
   ]
  }
 ],
 "metadata": {
  "kernelspec": {
   "display_name": "Python 3 (ipykernel)",
   "language": "python",
   "name": "python3"
  },
  "language_info": {
   "codemirror_mode": {
    "name": "ipython",
    "version": 3
   },
   "file_extension": ".py",
   "mimetype": "text/x-python",
   "name": "python",
   "nbconvert_exporter": "python",
   "pygments_lexer": "ipython3",
   "version": "3.10.6"
  }
 },
 "nbformat": 4,
 "nbformat_minor": 5
}
