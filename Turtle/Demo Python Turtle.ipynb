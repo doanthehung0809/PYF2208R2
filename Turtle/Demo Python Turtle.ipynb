{
 "cells": [
  {
   "cell_type": "markdown",
   "id": "dc718fde",
   "metadata": {},
   "source": [
    "# TÌM HIỂU THƯ VIỆN TURTLE\n",
    "1. Sử dụng lệnh PIP\n",
    "2. Thư viện Turtle\n",
    "3. Điều khiển chuyển động trong turle\n",
    "4. Điều khiển nét bút trong turtle"
   ]
  },
  {
   "cell_type": "markdown",
   "id": "df7065ed",
   "metadata": {},
   "source": [
    "## LỆNH PIP\n",
    "PIP là một trình quản lý gói cho Python, cho phép cài đặt và\n",
    "quản lý các thư viện và dependency mà không được phân\n",
    "phối như một phần của thư viện chuẩn của Python.\n",
    "> pip command"
   ]
  },
  {
   "cell_type": "markdown",
   "id": "f33877e9",
   "metadata": {},
   "source": [
    "Để kiểm tra pip đang chạy trên máy tính, chúng ta có thể sử dụng command:"
   ]
  },
  {
   "cell_type": "code",
   "execution_count": null,
   "id": "176a259c",
   "metadata": {},
   "outputs": [],
   "source": []
  },
  {
   "cell_type": "code",
   "execution_count": null,
   "id": "83fc6602",
   "metadata": {},
   "outputs": [],
   "source": []
  },
  {
   "cell_type": "markdown",
   "id": "5de29f0c",
   "metadata": {},
   "source": [
    "# THƯ VIỆN TURLTE\n",
    "- Turtle graphic là một chương trình con có sẵn trong python khi bạn đã cài Python lên máy\n",
    "- Turtle được xem như một cây bút vẽ, di chuyển đến đâu là vẽ hình đến đó"
   ]
  },
  {
   "cell_type": "markdown",
   "id": "41610170",
   "metadata": {},
   "source": [
    "### Cài đặt thư viện turtle với pip"
   ]
  },
  {
   "cell_type": "markdown",
   "id": "327a8a11",
   "metadata": {},
   "source": [
    "### Sử dụng turtle"
   ]
  },
  {
   "cell_type": "markdown",
   "id": "10e0be43",
   "metadata": {},
   "source": [
    "Bước 1: Import module turle\n"
   ]
  },
  {
   "cell_type": "code",
   "execution_count": 2,
   "id": "781d6b32",
   "metadata": {},
   "outputs": [],
   "source": [
    "import turtle"
   ]
  },
  {
   "cell_type": "markdown",
   "id": "d20f3f3f",
   "metadata": {},
   "source": [
    "Bước 2: Tạo đối tượng turle"
   ]
  },
  {
   "cell_type": "code",
   "execution_count": 5,
   "id": "9d62ff7d",
   "metadata": {},
   "outputs": [],
   "source": [
    "pen = turtle.Turtle()"
   ]
  },
  {
   "cell_type": "markdown",
   "id": "62a000c8",
   "metadata": {},
   "source": [
    "Bước 3: Vẽ bằng các phương thức của turtle"
   ]
  },
  {
   "cell_type": "code",
   "execution_count": 7,
   "id": "b772347e",
   "metadata": {},
   "outputs": [],
   "source": [
    "pen.left(50)"
   ]
  },
  {
   "cell_type": "markdown",
   "id": "8e0f4830",
   "metadata": {},
   "source": [
    "Bước 4: Hoàn thành vẽ"
   ]
  },
  {
   "cell_type": "code",
   "execution_count": 9,
   "id": "8e4a076e",
   "metadata": {},
   "outputs": [],
   "source": [
    "turtle.done()"
   ]
  },
  {
   "cell_type": "markdown",
   "id": "850cff26",
   "metadata": {},
   "source": [
    "### Thực hành: Vẽ hình vuông"
   ]
  },
  {
   "cell_type": "code",
   "execution_count": 1,
   "id": "7e69bd76",
   "metadata": {},
   "outputs": [],
   "source": [
    "import turtle\n",
    "pen=turtle.Turtle()\n",
    "pen.forward(100)\n",
    "pen.right(90)\n",
    "pen.forward(100)\n",
    "pen.right(90)\n",
    "pen.forward(100)\n",
    "pen.right(90)\n",
    "pen.forward(100)\n",
    "turtle.done()"
   ]
  },
  {
   "cell_type": "markdown",
   "id": "5887d86b",
   "metadata": {},
   "source": [
    "### Thực hành: Vẽ hình tam giác đều"
   ]
  },
  {
   "cell_type": "code",
   "execution_count": 1,
   "id": "4bbbad3a",
   "metadata": {},
   "outputs": [],
   "source": [
    "import turtle\n",
    "pen=turtle.Turtle()\n",
    "pen.right(45)\n",
    "pen.forward(150)\n",
    "pen.right(120)\n",
    "pen.forward(150)\n",
    "pen.right(120)\n",
    "pen.forward(150)\n",
    "turtle.done()"
   ]
  },
  {
   "cell_type": "markdown",
   "id": "286e4627",
   "metadata": {},
   "source": [
    "### Các lệnh điều khiển nét bút"
   ]
  },
  {
   "cell_type": "markdown",
   "id": "172501b8",
   "metadata": {},
   "source": [
    "Thay đổi kích thước của bút"
   ]
  },
  {
   "cell_type": "code",
   "execution_count": 1,
   "id": "7fb9025f",
   "metadata": {},
   "outputs": [],
   "source": [
    "import turtle\n",
    "pen=turtle.Turtle()"
   ]
  },
  {
   "cell_type": "markdown",
   "id": "a2f89a48",
   "metadata": {},
   "source": [
    "Nhấc bút lên"
   ]
  },
  {
   "cell_type": "code",
   "execution_count": 3,
   "id": "e5ea9ef7",
   "metadata": {},
   "outputs": [],
   "source": [
    "pen.penup\n",
    "pen.forward(50)"
   ]
  },
  {
   "cell_type": "markdown",
   "id": "249ee9cd",
   "metadata": {},
   "source": [
    "Đặt bút xuống"
   ]
  },
  {
   "cell_type": "code",
   "execution_count": 4,
   "id": "cbb2b715",
   "metadata": {},
   "outputs": [],
   "source": [
    "pen.pendown\n",
    "pen.forward(50)"
   ]
  },
  {
   "cell_type": "markdown",
   "id": "9a4a4e08",
   "metadata": {},
   "source": [
    "### Điều chỉnh màu sắc trong turtle"
   ]
  },
  {
   "cell_type": "markdown",
   "id": "767c4808",
   "metadata": {},
   "source": [
    "Thay đổi màu rùa"
   ]
  },
  {
   "cell_type": "code",
   "execution_count": 6,
   "id": "e8e0a962",
   "metadata": {},
   "outputs": [],
   "source": [
    "pen.pencolor(\"red\")\n",
    "pen.forward(50)"
   ]
  },
  {
   "cell_type": "markdown",
   "id": "e587faf1",
   "metadata": {},
   "source": [
    "Thay đổi màu bút"
   ]
  },
  {
   "cell_type": "code",
   "execution_count": 10,
   "id": "4227ed0a",
   "metadata": {},
   "outputs": [],
   "source": [
    "pen.fillcolor(\"blue\")\n",
    "pen.forward(50)"
   ]
  },
  {
   "cell_type": "markdown",
   "id": "9f9b669a",
   "metadata": {},
   "source": [
    "Thay đổi tốc độ"
   ]
  },
  {
   "cell_type": "code",
   "execution_count": null,
   "id": "f5f4a080",
   "metadata": {},
   "outputs": [],
   "source": [
    "pen.speed(30)\n",
    "pen.forward(150)"
   ]
  },
  {
   "cell_type": "markdown",
   "id": "8d905f29",
   "metadata": {},
   "source": [
    "VẼ NGÔI NHÀ MƠ ƯỚC"
   ]
  },
  {
   "cell_type": "code",
   "execution_count": null,
   "id": "b82ae745",
   "metadata": {},
   "outputs": [],
   "source": [
    "import turtle\n",
    "pen=turtle.Turtle()\n",
    "turtle.bgcolor('Light Blue')\n",
    "pen.speed(30)\n",
    "# NGÔI NHÀ\n",
    "# vẽ mái\n",
    "pen.fillcolor('pink')\n",
    "pen.begin_fill()\n",
    "pen.right(60)\n",
    "pen.forward(100)\n",
    "pen.right(120)\n",
    "pen.forward(100)\n",
    "pen.right(120)\n",
    "pen.forward(100)\n",
    "pen.end_fill()\n",
    "#Mái sau\n",
    "pen.fillcolor('orange')\n",
    "pen.begin_fill()\n",
    "pen.right(15)\n",
    "pen.forward(100)\n",
    "pen.right(105)\n",
    "pen.forward(100)\n",
    "pen.right(75)\n",
    "pen.forward(100)\n",
    "pen.left(45)\n",
    "pen.end_fill()\n",
    "#Thân trước\n",
    "pen.fillcolor('blue')\n",
    "pen.begin_fill()\n",
    "pen.forward(150)\n",
    "pen.right(90)\n",
    "pen.forward(100)\n",
    "pen.right(90)\n",
    "pen.forward(150)\n",
    "pen.penup()\n",
    "pen.right(90)\n",
    "pen.forward(100)\n",
    "pen.right(90)\n",
    "pen.forward(150)\n",
    "pen.end_fill()\n",
    "# Thân Sau\n",
    "pen.fillcolor('yellow')\n",
    "pen.begin_fill()\n",
    "pen.left(135)\n",
    "pen.down()\n",
    "pen.forward(100)\n",
    "pen.left(45)\n",
    "pen.forward(150)\n",
    "pen.left(135)\n",
    "pen.forward(100)\n",
    "pen.left(45)\n",
    "pen.forward(150)\n",
    "pen.right(180)\n",
    "pen.end_fill()\n",
    "# cửa sổ\n",
    "pen.penup()\n",
    "pen.forward(50)\n",
    "pen.right(45)\n",
    "pen.penup()\n",
    "pen.forward(30)\n",
    "pen.down()\n",
    "pen.fillcolor('brown')\n",
    "pen.begin_fill()\n",
    "pen.forward(40)\n",
    "pen.left(45)\n",
    "pen.forward(50)\n",
    "pen.left(135)\n",
    "pen.forward(40)\n",
    "pen.left(45)\n",
    "pen.forward(50)\n",
    "pen.end_fill()\n",
    "\n",
    "pen.penup()\n",
    "pen.right(90)\n",
    "pen.forward(20)\n",
    "pen.left(90)\n",
    "pen.forward(70)\n",
    "pen.right(90)\n",
    "pen.forward(30)\n",
    "# cửa trước\n",
    "pen.pendown()\n",
    "pen.fillcolor('green')\n",
    "pen.begin_fill()\n",
    "pen.right(90)\n",
    "pen.forward(60)\n",
    "pen.left(90)\n",
    "pen.forward(40)\n",
    "pen.left(90)\n",
    "pen.forward(62)\n",
    "pen.left(90)\n",
    "pen.forward(40)\n",
    "pen.end_fill()\n",
    "\n",
    "pen.penup()\n",
    "pen.forward(200)\n",
    "pen.pendown()\n",
    "# Thân cây\n",
    "pen.fillcolor('brown')\n",
    "pen.begin_fill()\n",
    "pen.forward(30)\n",
    "pen.left(90)\n",
    "pen.forward(60)\n",
    "pen.left(90)\n",
    "pen.forward(30)\n",
    "pen.left(90)\n",
    "pen.forward(60)\n",
    "pen.end_fill()\n",
    "# Tán 1\n",
    "pen.penup()\n",
    "pen.left(180)\n",
    "pen.forward(60)\n",
    "pen.left(90)\n",
    "pen.pendown()\n",
    "pen.fillcolor('green')\n",
    "pen.begin_fill()\n",
    "pen.forward(30)\n",
    "pen.right(120)\n",
    "pen.forward(90)\n",
    "pen.right(120)\n",
    "pen.forward(90)\n",
    "pen.right(120)\n",
    "pen.forward(30)\n",
    "pen.end_fill()\n",
    "pen.penup()\n",
    "pen.forward(60)\n",
    "pen.right(120)\n",
    "pen.forward(90)\n",
    "pen.left(120)\n",
    "#tán 2\n",
    "pen.pendown()\n",
    "pen.fillcolor('green')\n",
    "pen.begin_fill()\n",
    "pen.forward(45)\n",
    "pen.right(120)\n",
    "pen.forward(90)\n",
    "pen.right(120)\n",
    "pen.forward(90)\n",
    "pen.right(120)\n",
    "pen.forward(45)\n",
    "pen.penup()\n",
    "pen.forward(45)\n",
    "pen.right(120)\n",
    "pen.forward(90)\n",
    "pen.left(120)\n",
    "#tán 3\n",
    "pen.pendown()\n",
    "pen.forward(45)\n",
    "pen.right(120)\n",
    "pen.forward(90)\n",
    "pen.right(120)\n",
    "pen.forward(90)\n",
    "pen.right(120)\n",
    "pen.forward(45)\n",
    "pen.end_fill()\n",
    "# Mặt trời\n",
    "pen.penup()\n",
    "pen.forward(75)\n",
    "pen.right(90)\n",
    "pen.forward(180)\n",
    "pen.pendown()\n",
    "pen.pendown()\n",
    "pen.fillcolor('yellow')\n",
    "pen.begin_fill()\n",
    "pen.circle(30)\n",
    "pen.right(90)\n",
    "pen.forward(30)\n",
    "pen.end_fill()\n",
    "# vẽ đường dài\n",
    "# 1\n",
    "pen.penup()\n",
    "pen.right(180)\n",
    "pen.forward(60)\n",
    "pen.left(90)\n",
    "pen.forward(30)\n",
    "pen.pendown()\n",
    "pen.forward(30)\n",
    "#2\n",
    "pen.penup()\n",
    "pen.right(180)\n",
    "pen.forward(60)\n",
    "pen.left(90)\n",
    "pen.forward(30)\n",
    "pen.pendown()\n",
    "pen.forward(30)\n",
    "# 3\n",
    "pen.penup()\n",
    "pen.right(180)\n",
    "pen.forward(60)\n",
    "pen.left(90)\n",
    "pen.forward(30)\n",
    "pen.pendown()\n",
    "pen.forward(30)\n",
    "# vẽ đường ngắn\n",
    "# 1\n",
    "pen.penup()\n",
    "pen.right(180)\n",
    "pen.forward(60)\n",
    "pen.left(45)\n",
    "pen.forward(30)\n",
    "pen.pendown()\n",
    "pen.forward(20)\n",
    "# 2\n",
    "pen.penup()\n",
    "pen.right(180)\n",
    "pen.forward(50)\n",
    "pen.left(90)\n",
    "pen.forward(30)\n",
    "pen.pendown()\n",
    "pen.forward(20)\n",
    "# 3\n",
    "pen.penup()\n",
    "pen.right(180)\n",
    "pen.forward(50)\n",
    "pen.left(90)\n",
    "pen.forward(30)\n",
    "pen.pendown()\n",
    "pen.forward(20)\n",
    "# 4\n",
    "pen.penup()\n",
    "pen.right(180)\n",
    "pen.forward(50)\n",
    "pen.left(90)\n",
    "pen.forward(30)\n",
    "pen.pendown()\n",
    "pen.forward(20)\n",
    "turtle.done()"
   ]
  },
  {
   "cell_type": "code",
   "execution_count": 1,
   "id": "83ed101f",
   "metadata": {},
   "outputs": [],
   "source": [
    "import turtle\n",
    "pen=turtle.Turtle()\n",
    "pen.pensize(10)\n",
    "pen.pencolor('red')\n",
    "pen.fillcolor('green')\n",
    "pen.begin_fill()\n",
    "pen.circle(40,steps=4)\n",
    "pen.end_fill()\n",
    "turtle.done()"
   ]
  },
  {
   "cell_type": "code",
   "execution_count": 1,
   "id": "5e415c27",
   "metadata": {},
   "outputs": [],
   "source": [
    "import turtle\n",
    "t = turtle.Turtle()\n",
    "s = turtle.Screen()\n",
    "s.bgcolor('black')\n",
    "t.speed(500)\n",
    "col = (\"yellow\", \"red\", \"pink\", \"cyan\", \"light green\", \"blue\")\n",
    "\n",
    "for i in range(300):\n",
    "    t.pencolor(col[i%6])\n",
    "    t.circle(190-i/2,90)\n",
    "    t.lt(90)\n",
    "    t.circle(190-i/3,90)\n",
    "    t.lt(60)\n",
    "s.exitonclick()"
   ]
  }
 ],
 "metadata": {
  "kernelspec": {
   "display_name": "Python 3 (ipykernel)",
   "language": "python",
   "name": "python3"
  },
  "language_info": {
   "codemirror_mode": {
    "name": "ipython",
    "version": 3
   },
   "file_extension": ".py",
   "mimetype": "text/x-python",
   "name": "python",
   "nbconvert_exporter": "python",
   "pygments_lexer": "ipython3",
   "version": "3.10.6"
  }
 },
 "nbformat": 4,
 "nbformat_minor": 5
}
