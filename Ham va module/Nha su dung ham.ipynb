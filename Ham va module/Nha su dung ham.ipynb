{
 "cells": [
  {
   "cell_type": "code",
   "execution_count": 1,
   "id": "cf7d1e3a",
   "metadata": {},
   "outputs": [],
   "source": [
    "import turtle\n",
    "def draw_rectangle(a,b):\n",
    "    t = turtle.Turtle()\n",
    "    t.pencolor(\"blue\")\n",
    "    t.speed(0)\n",
    "    for n in range(1,6):\n",
    "        for i in range(1,5):\n",
    "            t.penup()\n",
    "            t.goto(a*(i-1),-b*(n-1))\n",
    "            t.pendown()\n",
    "            t.fillcolor(\"red\")\n",
    "            t.begin_fill()\n",
    "            for j in range(2):\n",
    "                t.forward(a)\n",
    "                t.right(90)\n",
    "                t.forward(b)\n",
    "                t.right(90)\n",
    "            t.end_fill()\n",
    "            t.penup()\n",
    "            t.goto(a*(i-1)+a/4,-b*(n-1)-b/4)\n",
    "            t.pendown()\n",
    "            t.fillcolor(\"white\")\n",
    "            t.begin_fill()\n",
    "            for j in range(2):\n",
    "                t.forward(a/2)\n",
    "                t.right(90)\n",
    "                t.forward(b/2)\n",
    "                t.right(90)\n",
    "            t.end_fill()\n",
    "    t.penup()\n",
    "    t.goto(i*a,-n*b)\n",
    "    t.pendown()\n",
    "    t.fillcolor(\"gray\")\n",
    "    t.begin_fill()        \n",
    "    for j in range(2):\n",
    "        t.forward(2*a)\n",
    "        t.left(90)\n",
    "        t.forward(b)\n",
    "        t.left(90)\n",
    "    t.end_fill()\n",
    "    t.penup()\n",
    "    t.goto(i*a+a/2,-n*b)\n",
    "    t.pendown()\n",
    "    t.fillcolor(\"green\")\n",
    "    t.begin_fill()\n",
    "    for j in range(2):\n",
    "        t.forward(a)\n",
    "        t.left(90)\n",
    "        t.forward(2*b/3)\n",
    "        t.left(90)\n",
    "    t.end_fill()\n",
    "    turtle.done()\n",
    "draw_rectangle(40,60)"
   ]
  }
 ],
 "metadata": {
  "kernelspec": {
   "display_name": "Python 3 (ipykernel)",
   "language": "python",
   "name": "python3"
  },
  "language_info": {
   "codemirror_mode": {
    "name": "ipython",
    "version": 3
   },
   "file_extension": ".py",
   "mimetype": "text/x-python",
   "name": "python",
   "nbconvert_exporter": "python",
   "pygments_lexer": "ipython3",
   "version": "3.10.6"
  }
 },
 "nbformat": 4,
 "nbformat_minor": 5
}
